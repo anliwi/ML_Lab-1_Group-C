{
  "cells": [
    {
      "cell_type": "markdown",
      "metadata": {
        "id": "view-in-github",
        "colab_type": "text"
      },
      "source": [
        "<a href=\"https://colab.research.google.com/github/lwarode/ML_Lab-1_Group-C/blob/main/3_final_model.ipynb\" target=\"_parent\"><img src=\"https://colab.research.google.com/assets/colab-badge.svg\" alt=\"Open In Colab\"/></a>"
      ]
    },
    {
      "cell_type": "markdown",
      "metadata": {
        "id": "OnZ-eujuXHm5"
      },
      "source": [
        "## 1. Setup"
      ]
    },
    {
      "cell_type": "code",
      "execution_count": 12,
      "metadata": {
        "id": "GUMb7yJjW2st"
      },
      "outputs": [],
      "source": [
        "# Load packages\n",
        "import pandas as pd\n",
        "import numpy as np\n",
        "import sklearn\n",
        "from sklearn.linear_model import LogisticRegression\n",
        "from sklearn.preprocessing import StandardScaler, PolynomialFeatures\n",
        "from sklearn.pipeline import Pipeline\n",
        "from sklearn.metrics import roc_curve, RocCurveDisplay, roc_auc_score, classification_report, accuracy_score, confusion_matrix, ConfusionMatrixDisplay, auc, precision_score, recall_score, balanced_accuracy_score, f1_score, PrecisionRecallDisplay, precision_recall_curve\n",
        "from sklearn.model_selection import train_test_split, GridSearchCV, RandomizedSearchCV, KFold, RepeatedKFold, cross_val_score, StratifiedKFold, cross_validate, TimeSeriesSplit\n",
        "from sklearn.ensemble import RandomForestClassifier, VotingClassifier\n",
        "from sklearn import metrics\n",
        "from sklearn.metrics import mean_squared_error\n",
        "from sklearn.svm import SVC, LinearSVC\n",
        "from scipy.stats import randint\n",
        "import xgboost as xgb\n",
        "from xgboost import XGBClassifier\n",
        "import seaborn as sns\n",
        "import matplotlib.pyplot as plt\n",
        "import os"
      ]
    },
    {
      "cell_type": "code",
      "execution_count": 13,
      "metadata": {
        "id": "G0wne39l0TqE"
      },
      "outputs": [],
      "source": [
        "# Function for exporting figures\n",
        "os.makedirs(\"figures\", exist_ok = True)\n",
        "\n",
        "def save_fig(fig_id, tight_layout=True, fig_extension=\"png\", resolution=300):\n",
        "    path = os.path.join(\"figures\", fig_id + \".\" + fig_extension)\n",
        "    print(\"Saving figure\", fig_id)\n",
        "    if tight_layout:\n",
        "        plt.tight_layout()\n",
        "    plt.savefig(path, format=fig_extension, dpi=resolution)"
      ]
    },
    {
      "cell_type": "markdown",
      "metadata": {
        "id": "BgR1GiqBXamI"
      },
      "source": [
        "## 2. Get the Data"
      ]
    },
    {
      "cell_type": "markdown",
      "metadata": {
        "id": "22zD8dQNXihG"
      },
      "source": [
        "### 2.1 Download the data"
      ]
    },
    {
      "cell_type": "code",
      "execution_count": 4,
      "metadata": {
        "id": "GlH4Wt6LXKov"
      },
      "outputs": [],
      "source": [
        "# Download the data\n",
        "vdem_2022_repl = pd.read_csv(\"https://raw.githubusercontent.com/vdeminstitute/part/main/create-data/output/part-v12.csv\")\n",
        "vdem_2022_repl = vdem_2022_repl.sort_values([\"year\", \"country_name\"], ascending=True) # for Walking-Forward-Validation"
      ]
    },
    {
      "cell_type": "markdown",
      "metadata": {
        "id": "e09B7l3EXqRT"
      },
      "source": [
        "### 2.2 Create training and testing set"
      ]
    },
    {
      "cell_type": "code",
      "execution_count": 5,
      "metadata": {
        "id": "vOy17U58XNo-"
      },
      "outputs": [],
      "source": [
        "# Create training data set (1970 to 2015)\n",
        "train_data = vdem_2022_repl[vdem_2022_repl['year']<2016]\n",
        "\n",
        "# Create test data set (2016 to 2020)\n",
        "test_data = vdem_2022_repl[(vdem_2022_repl['year']>2015) & (vdem_2022_repl['year']<2021)]"
      ]
    },
    {
      "cell_type": "code",
      "execution_count": null,
      "metadata": {
        "id": "tyo8AujNSA1S"
      },
      "outputs": [],
      "source": [
        "# Create training data set (1970 to 2016)\n",
        "#train_data = vdem_2022_repl[vdem_2022_repl['year']<2017]\n",
        "\n",
        "# Create test data set (2017 to 2021)\n",
        "#test_data = vdem_2022_repl[(vdem_2022_repl['year']>2016) & (vdem_2022_repl['year']<2022)]"
      ]
    },
    {
      "cell_type": "code",
      "execution_count": null,
      "metadata": {
        "colab": {
          "base_uri": "https://localhost:8080/"
        },
        "id": "OtcPUyAbYQjk",
        "outputId": "ab89bef2-d0e9-4e75-f716-02a39f20a82b"
      },
      "outputs": [
        {
          "data": {
            "text/plain": [
              "7176"
            ]
          },
          "execution_count": 191,
          "metadata": {},
          "output_type": "execute_result"
        }
      ],
      "source": [
        "len(train_data)"
      ]
    },
    {
      "cell_type": "code",
      "execution_count": null,
      "metadata": {
        "colab": {
          "base_uri": "https://localhost:8080/"
        },
        "id": "WPo8nItNYRv7",
        "outputId": "0765218f-c6b5-4d72-8300-0ab2a9838d2f"
      },
      "outputs": [
        {
          "data": {
            "text/plain": [
              "845"
            ]
          },
          "execution_count": 192,
          "metadata": {},
          "output_type": "execute_result"
        }
      ],
      "source": [
        "len(test_data)"
      ]
    },
    {
      "cell_type": "code",
      "execution_count": null,
      "metadata": {
        "id": "TDXCQZG_ZKT3"
      },
      "outputs": [],
      "source": [
        "train_data.head()"
      ]
    },
    {
      "cell_type": "code",
      "execution_count": null,
      "metadata": {
        "id": "AXpbXFdXZJiG"
      },
      "outputs": [],
      "source": [
        "test_data.head()"
      ]
    },
    {
      "cell_type": "markdown",
      "metadata": {
        "id": "h1wc40Tyeyzm"
      },
      "source": [
        "### 2.3 Select features and target variables"
      ]
    },
    {
      "cell_type": "code",
      "execution_count": 6,
      "metadata": {
        "id": "Y8DeEQPteyGu"
      },
      "outputs": [],
      "source": [
        "# Columns to be dropped\n",
        "columns_drop = [\"gwcode\", \"year\", \"country_name\", \"country_text_id\", \"country_id\",\n",
        "             \"v2x_regime\", \"v2x_regime_amb\", \"any_neg_change\", \"lagged_v2x_regime_asCharacter\", \"lagged_v2x_regime_asFactor\", \"any_neg_change_2yr\", \"lagged_v2x_regime\", \"lagged_v2x_regime_amb.5\"]\n",
        "\n",
        "# For training data  \n",
        "X_train = train_data.drop(columns = columns_drop, axis=1) # Removes several identifier variables not needed for modeling\n",
        "y_train = train_data.any_neg_change_2yr.values\n",
        "\n",
        "# For test_data\n",
        "X_test = test_data.drop(columns = columns_drop, axis=1) # Removes several identifier variables not needed for modeling\n",
        "y_test = test_data.any_neg_change_2yr.values\n"
      ]
    },
    {
      "cell_type": "markdown",
      "metadata": {
        "id": "rpI_hh0DquVg"
      },
      "source": [
        "### 2.4 Explore the training data"
      ]
    },
    {
      "cell_type": "code",
      "execution_count": null,
      "metadata": {
        "colab": {
          "base_uri": "https://localhost:8080/",
          "height": 394
        },
        "id": "e1GvfVWedREF",
        "outputId": "2ef49c6c-a99d-4089-de7b-0d17059bdbc3"
      },
      "outputs": [
        {
          "data": {
            "text/html": [
              "\n",
              "  <div id=\"df-f4739e49-4698-4007-8361-f8aec9d2fb60\">\n",
              "    <div class=\"colab-df-container\">\n",
              "      <div>\n",
              "<style scoped>\n",
              "    .dataframe tbody tr th:only-of-type {\n",
              "        vertical-align: middle;\n",
              "    }\n",
              "\n",
              "    .dataframe tbody tr th {\n",
              "        vertical-align: top;\n",
              "    }\n",
              "\n",
              "    .dataframe thead th {\n",
              "        text-align: right;\n",
              "    }\n",
              "</style>\n",
              "<table border=\"1\" class=\"dataframe\">\n",
              "  <thead>\n",
              "    <tr style=\"text-align: right;\">\n",
              "      <th></th>\n",
              "      <th>gwcode</th>\n",
              "      <th>year</th>\n",
              "      <th>country_id</th>\n",
              "      <th>any_neg_change</th>\n",
              "      <th>any_neg_change_2yr</th>\n",
              "      <th>v2x_regime</th>\n",
              "      <th>v2x_regime_amb</th>\n",
              "      <th>lagged_v2x_regime</th>\n",
              "      <th>lagged_is_closed_autocracy</th>\n",
              "      <th>lagged_currentRegimeDuration</th>\n",
              "      <th>...</th>\n",
              "      <th>lagged_internal_confl_part_minor</th>\n",
              "      <th>lagged_war</th>\n",
              "      <th>lagged_war_major</th>\n",
              "      <th>lagged_war_minor</th>\n",
              "      <th>lagged_any_conflict</th>\n",
              "      <th>lagged_any_conflict_major</th>\n",
              "      <th>lagged_any_conflict_minor</th>\n",
              "      <th>lagged_ext_conf</th>\n",
              "      <th>lagged_ext_conf_major</th>\n",
              "      <th>lagged_ext_conf_minor</th>\n",
              "    </tr>\n",
              "  </thead>\n",
              "  <tbody>\n",
              "    <tr>\n",
              "      <th>count</th>\n",
              "      <td>7176.000000</td>\n",
              "      <td>7176.000000</td>\n",
              "      <td>7176.000000</td>\n",
              "      <td>7176.000000</td>\n",
              "      <td>7176.000000</td>\n",
              "      <td>7176.000000</td>\n",
              "      <td>7176.000000</td>\n",
              "      <td>7176.000000</td>\n",
              "      <td>7176.000000</td>\n",
              "      <td>7176.000000</td>\n",
              "      <td>...</td>\n",
              "      <td>7176.000000</td>\n",
              "      <td>7176.000000</td>\n",
              "      <td>7176.000000</td>\n",
              "      <td>7176.000000</td>\n",
              "      <td>7176.000000</td>\n",
              "      <td>7176.000000</td>\n",
              "      <td>7176.000000</td>\n",
              "      <td>7176.000000</td>\n",
              "      <td>7176.000000</td>\n",
              "      <td>7176.000000</td>\n",
              "    </tr>\n",
              "    <tr>\n",
              "      <th>mean</th>\n",
              "      <td>462.831243</td>\n",
              "      <td>1993.417921</td>\n",
              "      <td>92.175725</td>\n",
              "      <td>0.019370</td>\n",
              "      <td>0.037625</td>\n",
              "      <td>1.311037</td>\n",
              "      <td>3.918339</td>\n",
              "      <td>1.291667</td>\n",
              "      <td>0.304766</td>\n",
              "      <td>26.349359</td>\n",
              "      <td>...</td>\n",
              "      <td>0.165134</td>\n",
              "      <td>0.032887</td>\n",
              "      <td>0.018813</td>\n",
              "      <td>0.014493</td>\n",
              "      <td>0.280797</td>\n",
              "      <td>0.147854</td>\n",
              "      <td>0.172938</td>\n",
              "      <td>0.280797</td>\n",
              "      <td>0.147854</td>\n",
              "      <td>0.172938</td>\n",
              "    </tr>\n",
              "    <tr>\n",
              "      <th>std</th>\n",
              "      <td>240.669059</td>\n",
              "      <td>13.187100</td>\n",
              "      <td>55.648623</td>\n",
              "      <td>0.137832</td>\n",
              "      <td>0.190302</td>\n",
              "      <td>1.099367</td>\n",
              "      <td>3.225338</td>\n",
              "      <td>1.101822</td>\n",
              "      <td>0.460340</td>\n",
              "      <td>27.529428</td>\n",
              "      <td>...</td>\n",
              "      <td>0.371327</td>\n",
              "      <td>0.178354</td>\n",
              "      <td>0.135873</td>\n",
              "      <td>0.119519</td>\n",
              "      <td>0.449420</td>\n",
              "      <td>0.354980</td>\n",
              "      <td>0.378220</td>\n",
              "      <td>0.449420</td>\n",
              "      <td>0.354980</td>\n",
              "      <td>0.378220</td>\n",
              "    </tr>\n",
              "    <tr>\n",
              "      <th>min</th>\n",
              "      <td>2.000000</td>\n",
              "      <td>1970.000000</td>\n",
              "      <td>3.000000</td>\n",
              "      <td>0.000000</td>\n",
              "      <td>0.000000</td>\n",
              "      <td>0.000000</td>\n",
              "      <td>0.000000</td>\n",
              "      <td>0.000000</td>\n",
              "      <td>0.000000</td>\n",
              "      <td>1.000000</td>\n",
              "      <td>...</td>\n",
              "      <td>0.000000</td>\n",
              "      <td>0.000000</td>\n",
              "      <td>0.000000</td>\n",
              "      <td>0.000000</td>\n",
              "      <td>0.000000</td>\n",
              "      <td>0.000000</td>\n",
              "      <td>0.000000</td>\n",
              "      <td>0.000000</td>\n",
              "      <td>0.000000</td>\n",
              "      <td>0.000000</td>\n",
              "    </tr>\n",
              "    <tr>\n",
              "      <th>25%</th>\n",
              "      <td>305.000000</td>\n",
              "      <td>1982.000000</td>\n",
              "      <td>47.000000</td>\n",
              "      <td>0.000000</td>\n",
              "      <td>0.000000</td>\n",
              "      <td>0.000000</td>\n",
              "      <td>0.000000</td>\n",
              "      <td>0.000000</td>\n",
              "      <td>0.000000</td>\n",
              "      <td>6.000000</td>\n",
              "      <td>...</td>\n",
              "      <td>0.000000</td>\n",
              "      <td>0.000000</td>\n",
              "      <td>0.000000</td>\n",
              "      <td>0.000000</td>\n",
              "      <td>0.000000</td>\n",
              "      <td>0.000000</td>\n",
              "      <td>0.000000</td>\n",
              "      <td>0.000000</td>\n",
              "      <td>0.000000</td>\n",
              "      <td>0.000000</td>\n",
              "    </tr>\n",
              "    <tr>\n",
              "      <th>50%</th>\n",
              "      <td>461.000000</td>\n",
              "      <td>1994.000000</td>\n",
              "      <td>87.000000</td>\n",
              "      <td>0.000000</td>\n",
              "      <td>0.000000</td>\n",
              "      <td>1.000000</td>\n",
              "      <td>3.000000</td>\n",
              "      <td>1.000000</td>\n",
              "      <td>0.000000</td>\n",
              "      <td>16.000000</td>\n",
              "      <td>...</td>\n",
              "      <td>0.000000</td>\n",
              "      <td>0.000000</td>\n",
              "      <td>0.000000</td>\n",
              "      <td>0.000000</td>\n",
              "      <td>0.000000</td>\n",
              "      <td>0.000000</td>\n",
              "      <td>0.000000</td>\n",
              "      <td>0.000000</td>\n",
              "      <td>0.000000</td>\n",
              "      <td>0.000000</td>\n",
              "    </tr>\n",
              "    <tr>\n",
              "      <th>75%</th>\n",
              "      <td>663.000000</td>\n",
              "      <td>2005.000000</td>\n",
              "      <td>132.000000</td>\n",
              "      <td>0.000000</td>\n",
              "      <td>0.000000</td>\n",
              "      <td>2.000000</td>\n",
              "      <td>7.000000</td>\n",
              "      <td>2.000000</td>\n",
              "      <td>1.000000</td>\n",
              "      <td>36.000000</td>\n",
              "      <td>...</td>\n",
              "      <td>0.000000</td>\n",
              "      <td>0.000000</td>\n",
              "      <td>0.000000</td>\n",
              "      <td>0.000000</td>\n",
              "      <td>1.000000</td>\n",
              "      <td>0.000000</td>\n",
              "      <td>0.000000</td>\n",
              "      <td>1.000000</td>\n",
              "      <td>0.000000</td>\n",
              "      <td>0.000000</td>\n",
              "    </tr>\n",
              "    <tr>\n",
              "      <th>max</th>\n",
              "      <td>950.000000</td>\n",
              "      <td>2015.000000</td>\n",
              "      <td>210.000000</td>\n",
              "      <td>1.000000</td>\n",
              "      <td>1.000000</td>\n",
              "      <td>3.000000</td>\n",
              "      <td>9.000000</td>\n",
              "      <td>3.000000</td>\n",
              "      <td>1.000000</td>\n",
              "      <td>115.000000</td>\n",
              "      <td>...</td>\n",
              "      <td>1.000000</td>\n",
              "      <td>1.000000</td>\n",
              "      <td>1.000000</td>\n",
              "      <td>1.000000</td>\n",
              "      <td>1.000000</td>\n",
              "      <td>1.000000</td>\n",
              "      <td>1.000000</td>\n",
              "      <td>1.000000</td>\n",
              "      <td>1.000000</td>\n",
              "      <td>1.000000</td>\n",
              "    </tr>\n",
              "  </tbody>\n",
              "</table>\n",
              "<p>8 rows × 461 columns</p>\n",
              "</div>\n",
              "      <button class=\"colab-df-convert\" onclick=\"convertToInteractive('df-f4739e49-4698-4007-8361-f8aec9d2fb60')\"\n",
              "              title=\"Convert this dataframe to an interactive table.\"\n",
              "              style=\"display:none;\">\n",
              "        \n",
              "  <svg xmlns=\"http://www.w3.org/2000/svg\" height=\"24px\"viewBox=\"0 0 24 24\"\n",
              "       width=\"24px\">\n",
              "    <path d=\"M0 0h24v24H0V0z\" fill=\"none\"/>\n",
              "    <path d=\"M18.56 5.44l.94 2.06.94-2.06 2.06-.94-2.06-.94-.94-2.06-.94 2.06-2.06.94zm-11 1L8.5 8.5l.94-2.06 2.06-.94-2.06-.94L8.5 2.5l-.94 2.06-2.06.94zm10 10l.94 2.06.94-2.06 2.06-.94-2.06-.94-.94-2.06-.94 2.06-2.06.94z\"/><path d=\"M17.41 7.96l-1.37-1.37c-.4-.4-.92-.59-1.43-.59-.52 0-1.04.2-1.43.59L10.3 9.45l-7.72 7.72c-.78.78-.78 2.05 0 2.83L4 21.41c.39.39.9.59 1.41.59.51 0 1.02-.2 1.41-.59l7.78-7.78 2.81-2.81c.8-.78.8-2.07 0-2.86zM5.41 20L4 18.59l7.72-7.72 1.47 1.35L5.41 20z\"/>\n",
              "  </svg>\n",
              "      </button>\n",
              "      \n",
              "  <style>\n",
              "    .colab-df-container {\n",
              "      display:flex;\n",
              "      flex-wrap:wrap;\n",
              "      gap: 12px;\n",
              "    }\n",
              "\n",
              "    .colab-df-convert {\n",
              "      background-color: #E8F0FE;\n",
              "      border: none;\n",
              "      border-radius: 50%;\n",
              "      cursor: pointer;\n",
              "      display: none;\n",
              "      fill: #1967D2;\n",
              "      height: 32px;\n",
              "      padding: 0 0 0 0;\n",
              "      width: 32px;\n",
              "    }\n",
              "\n",
              "    .colab-df-convert:hover {\n",
              "      background-color: #E2EBFA;\n",
              "      box-shadow: 0px 1px 2px rgba(60, 64, 67, 0.3), 0px 1px 3px 1px rgba(60, 64, 67, 0.15);\n",
              "      fill: #174EA6;\n",
              "    }\n",
              "\n",
              "    [theme=dark] .colab-df-convert {\n",
              "      background-color: #3B4455;\n",
              "      fill: #D2E3FC;\n",
              "    }\n",
              "\n",
              "    [theme=dark] .colab-df-convert:hover {\n",
              "      background-color: #434B5C;\n",
              "      box-shadow: 0px 1px 3px 1px rgba(0, 0, 0, 0.15);\n",
              "      filter: drop-shadow(0px 1px 2px rgba(0, 0, 0, 0.3));\n",
              "      fill: #FFFFFF;\n",
              "    }\n",
              "  </style>\n",
              "\n",
              "      <script>\n",
              "        const buttonEl =\n",
              "          document.querySelector('#df-f4739e49-4698-4007-8361-f8aec9d2fb60 button.colab-df-convert');\n",
              "        buttonEl.style.display =\n",
              "          google.colab.kernel.accessAllowed ? 'block' : 'none';\n",
              "\n",
              "        async function convertToInteractive(key) {\n",
              "          const element = document.querySelector('#df-f4739e49-4698-4007-8361-f8aec9d2fb60');\n",
              "          const dataTable =\n",
              "            await google.colab.kernel.invokeFunction('convertToInteractive',\n",
              "                                                     [key], {});\n",
              "          if (!dataTable) return;\n",
              "\n",
              "          const docLinkHtml = 'Like what you see? Visit the ' +\n",
              "            '<a target=\"_blank\" href=https://colab.research.google.com/notebooks/data_table.ipynb>data table notebook</a>'\n",
              "            + ' to learn more about interactive tables.';\n",
              "          element.innerHTML = '';\n",
              "          dataTable['output_type'] = 'display_data';\n",
              "          await google.colab.output.renderOutput(dataTable, element);\n",
              "          const docLink = document.createElement('div');\n",
              "          docLink.innerHTML = docLinkHtml;\n",
              "          element.appendChild(docLink);\n",
              "        }\n",
              "      </script>\n",
              "    </div>\n",
              "  </div>\n",
              "  "
            ],
            "text/plain": [
              "            gwcode         year   country_id  any_neg_change  \\\n",
              "count  7176.000000  7176.000000  7176.000000     7176.000000   \n",
              "mean    462.831243  1993.417921    92.175725        0.019370   \n",
              "std     240.669059    13.187100    55.648623        0.137832   \n",
              "min       2.000000  1970.000000     3.000000        0.000000   \n",
              "25%     305.000000  1982.000000    47.000000        0.000000   \n",
              "50%     461.000000  1994.000000    87.000000        0.000000   \n",
              "75%     663.000000  2005.000000   132.000000        0.000000   \n",
              "max     950.000000  2015.000000   210.000000        1.000000   \n",
              "\n",
              "       any_neg_change_2yr   v2x_regime  v2x_regime_amb  lagged_v2x_regime  \\\n",
              "count         7176.000000  7176.000000     7176.000000        7176.000000   \n",
              "mean             0.037625     1.311037        3.918339           1.291667   \n",
              "std              0.190302     1.099367        3.225338           1.101822   \n",
              "min              0.000000     0.000000        0.000000           0.000000   \n",
              "25%              0.000000     0.000000        0.000000           0.000000   \n",
              "50%              0.000000     1.000000        3.000000           1.000000   \n",
              "75%              0.000000     2.000000        7.000000           2.000000   \n",
              "max              1.000000     3.000000        9.000000           3.000000   \n",
              "\n",
              "       lagged_is_closed_autocracy  lagged_currentRegimeDuration  ...  \\\n",
              "count                 7176.000000                   7176.000000  ...   \n",
              "mean                     0.304766                     26.349359  ...   \n",
              "std                      0.460340                     27.529428  ...   \n",
              "min                      0.000000                      1.000000  ...   \n",
              "25%                      0.000000                      6.000000  ...   \n",
              "50%                      0.000000                     16.000000  ...   \n",
              "75%                      1.000000                     36.000000  ...   \n",
              "max                      1.000000                    115.000000  ...   \n",
              "\n",
              "       lagged_internal_confl_part_minor   lagged_war  lagged_war_major  \\\n",
              "count                       7176.000000  7176.000000       7176.000000   \n",
              "mean                           0.165134     0.032887          0.018813   \n",
              "std                            0.371327     0.178354          0.135873   \n",
              "min                            0.000000     0.000000          0.000000   \n",
              "25%                            0.000000     0.000000          0.000000   \n",
              "50%                            0.000000     0.000000          0.000000   \n",
              "75%                            0.000000     0.000000          0.000000   \n",
              "max                            1.000000     1.000000          1.000000   \n",
              "\n",
              "       lagged_war_minor  lagged_any_conflict  lagged_any_conflict_major  \\\n",
              "count       7176.000000          7176.000000                7176.000000   \n",
              "mean           0.014493             0.280797                   0.147854   \n",
              "std            0.119519             0.449420                   0.354980   \n",
              "min            0.000000             0.000000                   0.000000   \n",
              "25%            0.000000             0.000000                   0.000000   \n",
              "50%            0.000000             0.000000                   0.000000   \n",
              "75%            0.000000             1.000000                   0.000000   \n",
              "max            1.000000             1.000000                   1.000000   \n",
              "\n",
              "       lagged_any_conflict_minor  lagged_ext_conf  lagged_ext_conf_major  \\\n",
              "count                7176.000000      7176.000000            7176.000000   \n",
              "mean                    0.172938         0.280797               0.147854   \n",
              "std                     0.378220         0.449420               0.354980   \n",
              "min                     0.000000         0.000000               0.000000   \n",
              "25%                     0.000000         0.000000               0.000000   \n",
              "50%                     0.000000         0.000000               0.000000   \n",
              "75%                     0.000000         1.000000               0.000000   \n",
              "max                     1.000000         1.000000               1.000000   \n",
              "\n",
              "       lagged_ext_conf_minor  \n",
              "count            7176.000000  \n",
              "mean                0.172938  \n",
              "std                 0.378220  \n",
              "min                 0.000000  \n",
              "25%                 0.000000  \n",
              "50%                 0.000000  \n",
              "75%                 0.000000  \n",
              "max                 1.000000  \n",
              "\n",
              "[8 rows x 461 columns]"
            ]
          },
          "execution_count": 8,
          "metadata": {},
          "output_type": "execute_result"
        }
      ],
      "source": [
        "train_data.describe()"
      ]
    },
    {
      "cell_type": "code",
      "execution_count": null,
      "metadata": {
        "colab": {
          "base_uri": "https://localhost:8080/"
        },
        "id": "QUW1Y2B2qzl9",
        "outputId": "1fa18839-503b-4b93-8d07-2c16e4097de5"
      },
      "outputs": [
        {
          "data": {
            "text/plain": [
              "any_neg_change_2yr                     1.000000\n",
              "any_neg_change                         0.710796\n",
              "lagged_v2xlg_leginter                  0.239250\n",
              "lagged_pt_coup_num                     0.199359\n",
              "lagged_pt_coup                         0.198087\n",
              "                                         ...   \n",
              "lagged_diff_year_prior_v2x_elecoff    -0.130874\n",
              "lagged_diff_year_prior_v2xlg_legcon   -0.130956\n",
              "lagged_diff_year_prior_v2lgbicam      -0.133983\n",
              "lagged_is_jud                               NaN\n",
              "lagged_diff_year_prior_is_jud               NaN\n",
              "Name: any_neg_change_2yr, Length: 461, dtype: float64"
            ]
          },
          "execution_count": 9,
          "metadata": {},
          "output_type": "execute_result"
        }
      ],
      "source": [
        "# Looking for correlations\n",
        "corr_matrix = train_data.corr()\n",
        "corr_matrix[\"any_neg_change_2yr\"].sort_values(ascending=False)"
      ]
    },
    {
      "cell_type": "markdown",
      "metadata": {
        "id": "9ZZf2IYY3xqs"
      },
      "source": [
        "## 3. Model 1: Gradient Boosted Forest"
      ]
    },
    {
      "cell_type": "markdown",
      "metadata": {
        "id": "LIp82EvmbanG"
      },
      "source": [
        "### 3.1 Fit Plain Model on Training Set"
      ]
    },
    {
      "cell_type": "code",
      "execution_count": null,
      "metadata": {
        "id": "5Posja4c4Hd9"
      },
      "outputs": [],
      "source": [
        "# Build a plain model prior to hyperparameter tuning (XGBoost without parameters)\n",
        "model_xgb_plain = xgb.XGBClassifier(objective ='binary:logistic')"
      ]
    },
    {
      "cell_type": "code",
      "execution_count": null,
      "metadata": {
        "colab": {
          "base_uri": "https://localhost:8080/"
        },
        "id": "1UXNWcRNSgN9",
        "outputId": "27bae695-11e6-43ff-cdc5-1795cbe68f18"
      },
      "outputs": [
        {
          "data": {
            "text/plain": [
              "XGBClassifier()"
            ]
          },
          "execution_count": 199,
          "metadata": {},
          "output_type": "execute_result"
        }
      ],
      "source": [
        "# Fit the plain model on training set\n",
        "model_xgb_plain.fit(X_train, y_train)"
      ]
    },
    {
      "cell_type": "markdown",
      "metadata": {
        "id": "vcW5Pw5SfmOM"
      },
      "source": [
        "#### Evaluate Training Scores"
      ]
    },
    {
      "cell_type": "code",
      "execution_count": null,
      "metadata": {
        "colab": {
          "base_uri": "https://localhost:8080/"
        },
        "id": "WkKhKZn2R7Z-",
        "outputId": "55ea313c-1a66-494c-9559-3ce2d2768dcc"
      },
      "outputs": [
        {
          "name": "stdout",
          "output_type": "stream",
          "text": [
            "Confusion matrix:\n",
            " [[6903    3]\n",
            " [ 193   77]]\n",
            "Training Balanced Accuracy: 64.2375 %\n",
            "Training AUC: 98.8287 %\n",
            "Training Recall: 28.5185 %\n",
            "Training Precision: 96.2500 %\n",
            "Training F1: 44.0000 %\n",
            "Training F1 Weighted: 96.5458 %\n"
          ]
        }
      ],
      "source": [
        "# For plain model without tuned hyperparameters\n",
        "y_train_hat_xgb_plain = model_xgb_plain.predict(X_train)\n",
        "y_train_hat_probs_xgb_plain = model_xgb_plain.predict_proba(X_train)[:,1]\n",
        "\n",
        "train_balanced_accuracy_xgb_plain = balanced_accuracy_score(y_train, y_train_hat_xgb_plain)*100\n",
        "train_auc_roc_xgb_plain = roc_auc_score(y_train, y_train_hat_probs_xgb_plain)*100\n",
        "train_recall_xgb_plain = recall_score(y_train, y_train_hat_xgb_plain)*100\n",
        "train_precision_xgb_plain = precision_score(y_train, y_train_hat_xgb_plain)*100\n",
        "train_f1_xgb_plain = f1_score(y_train, y_train_hat_xgb_plain)*100\n",
        "train_f1_weighted_xgb_plain = f1_score(y_train, y_train_hat_xgb_plain, average='weighted')*100\n",
        "\n",
        "print('Confusion matrix:\\n', confusion_matrix(y_train, y_train_hat_xgb_plain))\n",
        "print('Training Balanced Accuracy: %.4f %%' % train_balanced_accuracy_xgb_plain)\n",
        "print('Training AUC: %.4f %%' % train_auc_roc_xgb_plain)\n",
        "print('Training Recall: %.4f %%' % train_recall_xgb_plain)\n",
        "print('Training Precision: %.4f %%' % train_precision_xgb_plain)\n",
        "print('Training F1: %.4f %%' % train_f1_xgb_plain)\n",
        "print('Training F1 Weighted: %.4f %%' % train_f1_weighted_xgb_plain)\n"
      ]
    },
    {
      "cell_type": "markdown",
      "metadata": {
        "id": "BIsmfMxAirw3"
      },
      "source": [
        "### 3.2 Hyperparameter Tuning"
      ]
    },
    {
      "cell_type": "markdown",
      "metadata": {
        "id": "1cVQMfQ2xFoT"
      },
      "source": [
        "#### Randomized grid search"
      ]
    },
    {
      "cell_type": "code",
      "execution_count": null,
      "metadata": {
        "id": "36DdGsRL-uUh"
      },
      "outputs": [],
      "source": [
        "# parameter for pipepline (using standardization)\n",
        "params = {\n",
        "        'xgb__n_estimators': [60, 80, 100, 120, 140, 160, 180],\n",
        "        'xgb__learning_rate': [0.1, 0.2, 0.3, 0.4, 0.5, 0.6, 0.7, 0.8, 0.9, 1.0],\n",
        "        'xgb__min_child_weight': randint(low=1, high=10),\n",
        "        'xgb__gamma': [0, 0.5, 1, 1.5, 2, 5],\n",
        "        'xgb__subsample': [0.5, 0.6, 0.7, 0.8, 0.9, 1.0],\n",
        "        'xgb__max_delta_step': randint(low=1, high=10),\n",
        "        'xgb__colsample_bytree': [0.5, 0.6, 0.7, 0.8, 0.9, 1.0],\n",
        "        'xgb__max_depth': randint(low=3, high=10),\n",
        "        'xgb__reg_alpha': [0, 0.5, 1],\n",
        "        'xgb__reg_lambda': [0, 0.5, 1],\n",
        "        }"
      ]
    },
    {
      "cell_type": "code",
      "execution_count": null,
      "metadata": {
        "id": "-Wy08DZg1OhL"
      },
      "outputs": [],
      "source": [
        "params = {\n",
        "        'n_estimators': [60, 80, 100, 120, 140, 160, 180],\n",
        "        'learning_rate': [0.1, 0.2, 0.3, 0.4, 0.5, 0.6, 0.7, 0.8, 0.9, 1.0],\n",
        "        'min_child_weight': randint(low=1, high=10),\n",
        "        'gamma': [0, 0.5, 1, 1.5, 2, 5],\n",
        "        'subsample': [0.5, 0.6, 0.7, 0.8, 0.9, 1.0],\n",
        "        'max_delta_step': randint(low=1, high=10),\n",
        "        'colsample_bytree': [0.5, 0.6, 0.7, 0.8, 0.9, 1.0],\n",
        "        'max_depth': randint(low=3, high=10),\n",
        "        'reg_alpha': [0, 0.5, 1],\n",
        "        'reg_lambda': [0, 0.5, 1],\n",
        "        }"
      ]
    },
    {
      "cell_type": "code",
      "execution_count": null,
      "metadata": {
        "colab": {
          "base_uri": "https://localhost:8080/"
        },
        "id": "TEwqnEeWxIT0",
        "outputId": "97662287-38ea-4620-a794-3fd5feea095d"
      },
      "outputs": [
        {
          "output_type": "execute_result",
          "data": {
            "text/plain": [
              "RandomizedSearchCV(cv=5,\n",
              "                   estimator=Pipeline(steps=[('scaler', StandardScaler()),\n",
              "                                             ('xgb',\n",
              "                                              XGBClassifier(random_state=42))]),\n",
              "                   n_iter=70,\n",
              "                   param_distributions={'xgb__colsample_bytree': [0.5, 0.6, 0.7,\n",
              "                                                                  0.8, 0.9,\n",
              "                                                                  1.0],\n",
              "                                        'xgb__gamma': [0, 0.5, 1, 1.5, 2, 5],\n",
              "                                        'xgb__learning_rate': [0.1, 0.2, 0.3,\n",
              "                                                               0.4, 0.5, 0.6,\n",
              "                                                               0.7, 0.8, 0.9,\n",
              "                                                               1.0],\n",
              "                                        'xgb__max_delta_step': <scipy.stats._distn_infrastructure...\n",
              "                                        'xgb__max_depth': <scipy.stats._distn_infrastructure.rv_frozen object at 0x7f1859d03e10>,\n",
              "                                        'xgb__min_child_weight': <scipy.stats._distn_infrastructure.rv_frozen object at 0x7f1859d66ed0>,\n",
              "                                        'xgb__n_estimators': [60, 80, 100, 120,\n",
              "                                                              140, 160, 180],\n",
              "                                        'xgb__reg_alpha': [0, 0.5, 1],\n",
              "                                        'xgb__reg_lambda': [0, 0.5, 1],\n",
              "                                        'xgb__subsample': [0.5, 0.6, 0.7, 0.8,\n",
              "                                                           0.9, 1.0]},\n",
              "                   random_state=42, scoring='f1')"
            ]
          },
          "metadata": {},
          "execution_count": 60
        }
      ],
      "source": [
        "#xgb_model_random = xgb.XGBClassifier(objective ='binary:logistic', random_state = 42)\n",
        "xgb_model_random = Pipeline([(\"scaler\", StandardScaler()), (\"xgb\", xgb.XGBClassifier(objective ='binary:logistic', random_state = 42)),],)\n",
        "\n",
        "random_search_xgb = RandomizedSearchCV(xgb_model_random, \n",
        "                                   param_distributions = params, \n",
        "                                   n_iter = 70, \n",
        "                                   scoring = 'f1',  \n",
        "                                   cv = 5,\n",
        "                                   random_state=42)\n",
        "\n",
        "random_search_xgb.fit(X_train, y_train)\n"
      ]
    },
    {
      "cell_type": "markdown",
      "metadata": {
        "id": "B9LP8Hkwzxnc"
      },
      "source": [
        "The best hyperparameter combination found:"
      ]
    },
    {
      "cell_type": "code",
      "execution_count": null,
      "metadata": {
        "colab": {
          "base_uri": "https://localhost:8080/"
        },
        "id": "VPRopv04z3fz",
        "outputId": "e0136f8c-241a-474f-e543-d96707056daf"
      },
      "outputs": [
        {
          "output_type": "stream",
          "name": "stdout",
          "text": [
            "\n",
            " Best hyperparameters:\n",
            "{'xgb__colsample_bytree': 0.8, 'xgb__gamma': 0, 'xgb__learning_rate': 0.7, 'xgb__max_delta_step': 4, 'xgb__max_depth': 5, 'xgb__min_child_weight': 5, 'xgb__n_estimators': 140, 'xgb__reg_alpha': 1, 'xgb__reg_lambda': 0, 'xgb__subsample': 0.8}\n"
          ]
        }
      ],
      "source": [
        "print('\\n Best hyperparameters:')\n",
        "print(random_search_xgb.best_params_)"
      ]
    },
    {
      "cell_type": "code",
      "execution_count": null,
      "metadata": {
        "colab": {
          "base_uri": "https://localhost:8080/"
        },
        "id": "2vMAFd-Cz9Jw",
        "outputId": "6f332f37-0753-4e72-d932-ecabc2cb130b"
      },
      "outputs": [
        {
          "output_type": "stream",
          "name": "stdout",
          "text": [
            "\n",
            " Best estimator:\n",
            "Pipeline(steps=[('scaler', StandardScaler()),\n",
            "                ('xgb',\n",
            "                 XGBClassifier(colsample_bytree=0.8, learning_rate=0.7,\n",
            "                               max_delta_step=4, max_depth=5,\n",
            "                               min_child_weight=5, n_estimators=140,\n",
            "                               random_state=42, reg_alpha=1, reg_lambda=0,\n",
            "                               subsample=0.8))])\n"
          ]
        }
      ],
      "source": [
        "print('\\n Best estimator:')\n",
        "print(random_search_xgb.best_estimator_)"
      ]
    },
    {
      "cell_type": "code",
      "execution_count": null,
      "metadata": {
        "id": "1wGQ7L5E0Yeb"
      },
      "outputs": [],
      "source": [
        "# best_random_xgb_model = random_search.best_estimator_"
      ]
    },
    {
      "cell_type": "markdown",
      "metadata": {
        "id": "I3AHQYToxBfD"
      },
      "source": [
        "#### Optional: Grid search"
      ]
    },
    {
      "cell_type": "code",
      "execution_count": null,
      "metadata": {
        "colab": {
          "base_uri": "https://localhost:8080/"
        },
        "id": "denrjRIXiucL",
        "outputId": "72fbb005-2d9b-4418-e6b4-df53bf2ab1c9"
      },
      "outputs": [
        {
          "name": "stdout",
          "output_type": "stream",
          "text": [
            "Fitting 14 folds for each of 8 candidates, totalling 112 fits\n"
          ]
        },
        {
          "data": {
            "text/plain": [
              "GridSearchCV(cv=14, estimator=XGBClassifier(), n_jobs=-1,\n",
              "             param_grid={'learning_rate': [0, 1], 'max_depth': [2, 20],\n",
              "                         'n_estimators': [2, 150]},\n",
              "             return_train_score=True, scoring='accuracy', verbose=True)"
            ]
          },
          "execution_count": 48,
          "metadata": {},
          "output_type": "execute_result"
        }
      ],
      "source": [
        "# Commented because it takes a VERY LONG time to run.\n",
        "\n",
        "# param_grid = {\n",
        "#         'n_estimators': randint(low=2, high=150),\n",
        "#         'learning_rate': [0.1, 0.2, 0.3, 0.4, 0.5, 0.6, 0.7, 0.8, 0.9, 1.0],\n",
        "#         'min_child_weight': randint(low=1, high=10),\n",
        "#         'gamma': [0, 0.5, 1, 1.5, 2, 5],\n",
        "#         'subsample': [0.5, 0.6, 0.7, 0.8, 0.9, 1.0],\n",
        "#         'max_delta_step': randint(low=1, high=10),\n",
        "#         'colsample_bytree': [0.5, 0.6, 0.7, 0.8, 0.9, 1.0],\n",
        "#         'max_depth': randint(low=3, high=10),\n",
        "#         'reg_alpha': [0, 0.5, 1],\n",
        "#         'reg_lambda': [0, 0.5, 1],\n",
        "#         }\n",
        "     \n",
        "# xgb_model = xgb.XGBClassifier()\n",
        "\n",
        "# xgb_grid_search = GridSearchCV(xgb_model, param_grid, cv=5,\n",
        "#                                   scoring=\"neg_mean_squared_error\",\n",
        "#                                   return_train_score=True,\n",
        "#                                   verbose=True,\n",
        "#                                   n_jobs=-1)\n",
        "\n",
        "# xgb_grid_search.fit(X_train, y_train)"
      ]
    },
    {
      "cell_type": "markdown",
      "metadata": {
        "id": "tO0VBzNCjvT9"
      },
      "source": [
        "The best hyperparameter combination found:"
      ]
    },
    {
      "cell_type": "code",
      "execution_count": null,
      "metadata": {
        "colab": {
          "base_uri": "https://localhost:8080/"
        },
        "id": "SFN8rJ3sjxVk",
        "outputId": "53d0e9bc-1401-48aa-c510-2d173f213f32"
      },
      "outputs": [
        {
          "data": {
            "text/plain": [
              "{'learning_rate': 1, 'max_depth': 2, 'n_estimators': 2}"
            ]
          },
          "execution_count": 49,
          "metadata": {},
          "output_type": "execute_result"
        }
      ],
      "source": [
        "# xgb_grid_search.best_params_"
      ]
    },
    {
      "cell_type": "code",
      "execution_count": null,
      "metadata": {
        "colab": {
          "base_uri": "https://localhost:8080/"
        },
        "id": "gneEfM9Kj7Ro",
        "outputId": "6aa21c20-be44-4785-a801-8c2a3414a075"
      },
      "outputs": [
        {
          "data": {
            "text/plain": [
              "XGBClassifier(learning_rate=1, max_depth=2, n_estimators=2)"
            ]
          },
          "execution_count": 50,
          "metadata": {},
          "output_type": "execute_result"
        }
      ],
      "source": [
        "# xgb_grid_search.best_estimator_"
      ]
    },
    {
      "cell_type": "code",
      "execution_count": null,
      "metadata": {
        "id": "tGQOgKMnnodl"
      },
      "outputs": [],
      "source": [
        "# best_xgb_model = xgb_grid_search.best_estimator_"
      ]
    },
    {
      "cell_type": "markdown",
      "metadata": {
        "id": "RGrVOMDKFP9-"
      },
      "source": [
        "#### Optional: Bayesian Optimization"
      ]
    },
    {
      "cell_type": "code",
      "execution_count": null,
      "metadata": {
        "id": "VfGFkN13F-0x"
      },
      "outputs": [],
      "source": [
        "from hyperopt import STATUS_OK, Trials, fmin, hp, tpe"
      ]
    },
    {
      "cell_type": "code",
      "execution_count": null,
      "metadata": {
        "id": "rzfoht66Oy2V"
      },
      "outputs": [],
      "source": [
        "# Initialize domain space for range of values\n",
        "\n",
        "space={'n_estimators': hp.randint(\"n_estimators\", 150),\n",
        "       'learning_rate' : hp.uniform('learning_rate', 0.1,1.0),\n",
        "       'min_child_weight' : hp.quniform('min_child_weight', 1, 10, 1),\n",
        "       'gamma': hp.uniform ('gamma', 0,5),\n",
        "       'subsample' : hp.uniform('subsample', 0.5,1),\n",
        "       'max_delta_step': hp.quniform(\"max_delta_step\", 1, 10, 1),\n",
        "       'colsample_bytree' : hp.uniform('colsample_bytree', 0.5,1),\n",
        "       'max_depth': hp.quniform(\"max_depth\", 3, 10, 1),\n",
        "       'reg_alpha' : hp.quniform('reg_alpha', 40,180,1),\n",
        "       'reg_lambda' : hp.uniform('reg_lambda', 0,1),\n",
        "        'seed': 0\n",
        "       }"
      ]
    },
    {
      "cell_type": "code",
      "execution_count": null,
      "metadata": {
        "id": "NLCPakTQOzEf"
      },
      "outputs": [],
      "source": [
        "# Define objective function\n",
        "\n",
        "def objective(space):\n",
        "    clf = xgb.XGBClassifier(\n",
        "                    n_estimators = int(space['n_estimators']),\n",
        "                    learning_rate=int(space['learning_rate']),\n",
        "                    min_child_weight=int(space['min_child_weight']),\n",
        "                    gamma = space['gamma'],\n",
        "                    subsample=int(space['subsample']),\n",
        "                    max_delta_step=int(space['max_delta_step']),\n",
        "                    colsample_bytree=int(space['colsample_bytree']),\n",
        "                    max_depth = int(space['max_depth']),\n",
        "                    reg_alpha = int(space['reg_alpha']))\n",
        "    \n",
        "    evaluation = [( X_train, y_train), ( X_test, y_test)]\n",
        "    \n",
        "    clf.fit(X_train, y_train,\n",
        "            eval_set = evaluation, eval_metric=\"auc\",\n",
        "            early_stopping_rounds=10,verbose=False)\n",
        "    \n",
        "    pred = clf.predict(X_test)\n",
        "    accuracy = accuracy_score(y_test, pred>0.5)\n",
        "    print (\"SCORE:\", accuracy)\n",
        "    return {'loss': -accuracy, 'status': STATUS_OK }"
      ]
    },
    {
      "cell_type": "code",
      "execution_count": null,
      "metadata": {
        "colab": {
          "base_uri": "https://localhost:8080/",
          "height": 363
        },
        "id": "OXnqCelEOzPy",
        "outputId": "9447a85e-9b29-488a-dde9-47cc98b36d5e"
      },
      "outputs": [
        {
          "name": "stdout",
          "output_type": "stream",
          "text": [
            "  0%|          | 0/100 [00:00<?, ?it/s, best loss: ?]\n"
          ]
        },
        {
          "ename": "ValueError",
          "evalue": "ignored",
          "output_type": "error",
          "traceback": [
            "\u001b[0;31m---------------------------------------------------------------------------\u001b[0m",
            "\u001b[0;31mValueError\u001b[0m                                Traceback (most recent call last)",
            "\u001b[0;32m<ipython-input-95-f5cfd3d37c38>\u001b[0m in \u001b[0;36m<module>\u001b[0;34m()\u001b[0m\n\u001b[1;32m      7\u001b[0m                         \u001b[0malgo\u001b[0m \u001b[0;34m=\u001b[0m \u001b[0mtpe\u001b[0m\u001b[0;34m.\u001b[0m\u001b[0msuggest\u001b[0m\u001b[0;34m,\u001b[0m\u001b[0;34m\u001b[0m\u001b[0;34m\u001b[0m\u001b[0m\n\u001b[1;32m      8\u001b[0m                         \u001b[0mmax_evals\u001b[0m \u001b[0;34m=\u001b[0m \u001b[0;36m100\u001b[0m\u001b[0;34m,\u001b[0m\u001b[0;34m\u001b[0m\u001b[0;34m\u001b[0m\u001b[0m\n\u001b[0;32m----> 9\u001b[0;31m                         trials = trials)\n\u001b[0m",
            "\u001b[0;32m/usr/local/lib/python3.7/dist-packages/hyperopt/fmin.py\u001b[0m in \u001b[0;36mfmin\u001b[0;34m(fn, space, algo, max_evals, trials, rstate, allow_trials_fmin, pass_expr_memo_ctrl, catch_eval_exceptions, verbose, return_argmin, points_to_evaluate, max_queue_len, show_progressbar)\u001b[0m\n\u001b[1;32m    386\u001b[0m             \u001b[0mcatch_eval_exceptions\u001b[0m\u001b[0;34m=\u001b[0m\u001b[0mcatch_eval_exceptions\u001b[0m\u001b[0;34m,\u001b[0m\u001b[0;34m\u001b[0m\u001b[0;34m\u001b[0m\u001b[0m\n\u001b[1;32m    387\u001b[0m             \u001b[0mreturn_argmin\u001b[0m\u001b[0;34m=\u001b[0m\u001b[0mreturn_argmin\u001b[0m\u001b[0;34m,\u001b[0m\u001b[0;34m\u001b[0m\u001b[0;34m\u001b[0m\u001b[0m\n\u001b[0;32m--> 388\u001b[0;31m             \u001b[0mshow_progressbar\u001b[0m\u001b[0;34m=\u001b[0m\u001b[0mshow_progressbar\u001b[0m\u001b[0;34m,\u001b[0m\u001b[0;34m\u001b[0m\u001b[0;34m\u001b[0m\u001b[0m\n\u001b[0m\u001b[1;32m    389\u001b[0m         )\n\u001b[1;32m    390\u001b[0m \u001b[0;34m\u001b[0m\u001b[0m\n",
            "\u001b[0;32m/usr/local/lib/python3.7/dist-packages/hyperopt/base.py\u001b[0m in \u001b[0;36mfmin\u001b[0;34m(self, fn, space, algo, max_evals, rstate, verbose, pass_expr_memo_ctrl, catch_eval_exceptions, return_argmin, show_progressbar)\u001b[0m\n\u001b[1;32m    637\u001b[0m             \u001b[0mcatch_eval_exceptions\u001b[0m\u001b[0;34m=\u001b[0m\u001b[0mcatch_eval_exceptions\u001b[0m\u001b[0;34m,\u001b[0m\u001b[0;34m\u001b[0m\u001b[0;34m\u001b[0m\u001b[0m\n\u001b[1;32m    638\u001b[0m             \u001b[0mreturn_argmin\u001b[0m\u001b[0;34m=\u001b[0m\u001b[0mreturn_argmin\u001b[0m\u001b[0;34m,\u001b[0m\u001b[0;34m\u001b[0m\u001b[0;34m\u001b[0m\u001b[0m\n\u001b[0;32m--> 639\u001b[0;31m             show_progressbar=show_progressbar)\n\u001b[0m\u001b[1;32m    640\u001b[0m \u001b[0;34m\u001b[0m\u001b[0m\n\u001b[1;32m    641\u001b[0m \u001b[0;34m\u001b[0m\u001b[0m\n",
            "\u001b[0;32m/usr/local/lib/python3.7/dist-packages/hyperopt/fmin.py\u001b[0m in \u001b[0;36mfmin\u001b[0;34m(fn, space, algo, max_evals, trials, rstate, allow_trials_fmin, pass_expr_memo_ctrl, catch_eval_exceptions, verbose, return_argmin, points_to_evaluate, max_queue_len, show_progressbar)\u001b[0m\n\u001b[1;32m    405\u001b[0m                     show_progressbar=show_progressbar)\n\u001b[1;32m    406\u001b[0m     \u001b[0mrval\u001b[0m\u001b[0;34m.\u001b[0m\u001b[0mcatch_eval_exceptions\u001b[0m \u001b[0;34m=\u001b[0m \u001b[0mcatch_eval_exceptions\u001b[0m\u001b[0;34m\u001b[0m\u001b[0;34m\u001b[0m\u001b[0m\n\u001b[0;32m--> 407\u001b[0;31m     \u001b[0mrval\u001b[0m\u001b[0;34m.\u001b[0m\u001b[0mexhaust\u001b[0m\u001b[0;34m(\u001b[0m\u001b[0;34m)\u001b[0m\u001b[0;34m\u001b[0m\u001b[0;34m\u001b[0m\u001b[0m\n\u001b[0m\u001b[1;32m    408\u001b[0m     \u001b[0;32mif\u001b[0m \u001b[0mreturn_argmin\u001b[0m\u001b[0;34m:\u001b[0m\u001b[0;34m\u001b[0m\u001b[0;34m\u001b[0m\u001b[0m\n\u001b[1;32m    409\u001b[0m         \u001b[0;32mreturn\u001b[0m \u001b[0mtrials\u001b[0m\u001b[0;34m.\u001b[0m\u001b[0margmin\u001b[0m\u001b[0;34m\u001b[0m\u001b[0;34m\u001b[0m\u001b[0m\n",
            "\u001b[0;32m/usr/local/lib/python3.7/dist-packages/hyperopt/fmin.py\u001b[0m in \u001b[0;36mexhaust\u001b[0;34m(self)\u001b[0m\n\u001b[1;32m    260\u001b[0m     \u001b[0;32mdef\u001b[0m \u001b[0mexhaust\u001b[0m\u001b[0;34m(\u001b[0m\u001b[0mself\u001b[0m\u001b[0;34m)\u001b[0m\u001b[0;34m:\u001b[0m\u001b[0;34m\u001b[0m\u001b[0;34m\u001b[0m\u001b[0m\n\u001b[1;32m    261\u001b[0m         \u001b[0mn_done\u001b[0m \u001b[0;34m=\u001b[0m \u001b[0mlen\u001b[0m\u001b[0;34m(\u001b[0m\u001b[0mself\u001b[0m\u001b[0;34m.\u001b[0m\u001b[0mtrials\u001b[0m\u001b[0;34m)\u001b[0m\u001b[0;34m\u001b[0m\u001b[0;34m\u001b[0m\u001b[0m\n\u001b[0;32m--> 262\u001b[0;31m         \u001b[0mself\u001b[0m\u001b[0;34m.\u001b[0m\u001b[0mrun\u001b[0m\u001b[0;34m(\u001b[0m\u001b[0mself\u001b[0m\u001b[0;34m.\u001b[0m\u001b[0mmax_evals\u001b[0m \u001b[0;34m-\u001b[0m \u001b[0mn_done\u001b[0m\u001b[0;34m,\u001b[0m \u001b[0mblock_until_done\u001b[0m\u001b[0;34m=\u001b[0m\u001b[0mself\u001b[0m\u001b[0;34m.\u001b[0m\u001b[0masynchronous\u001b[0m\u001b[0;34m)\u001b[0m\u001b[0;34m\u001b[0m\u001b[0;34m\u001b[0m\u001b[0m\n\u001b[0m\u001b[1;32m    263\u001b[0m         \u001b[0mself\u001b[0m\u001b[0;34m.\u001b[0m\u001b[0mtrials\u001b[0m\u001b[0;34m.\u001b[0m\u001b[0mrefresh\u001b[0m\u001b[0;34m(\u001b[0m\u001b[0;34m)\u001b[0m\u001b[0;34m\u001b[0m\u001b[0;34m\u001b[0m\u001b[0m\n\u001b[1;32m    264\u001b[0m         \u001b[0;32mreturn\u001b[0m \u001b[0mself\u001b[0m\u001b[0;34m\u001b[0m\u001b[0;34m\u001b[0m\u001b[0m\n",
            "\u001b[0;32m/usr/local/lib/python3.7/dist-packages/hyperopt/fmin.py\u001b[0m in \u001b[0;36mrun\u001b[0;34m(self, N, block_until_done)\u001b[0m\n\u001b[1;32m    225\u001b[0m                     \u001b[0;32melse\u001b[0m\u001b[0;34m:\u001b[0m\u001b[0;34m\u001b[0m\u001b[0;34m\u001b[0m\u001b[0m\n\u001b[1;32m    226\u001b[0m                         \u001b[0;31m# -- loop over trials and do the jobs directly\u001b[0m\u001b[0;34m\u001b[0m\u001b[0;34m\u001b[0m\u001b[0;34m\u001b[0m\u001b[0m\n\u001b[0;32m--> 227\u001b[0;31m                         \u001b[0mself\u001b[0m\u001b[0;34m.\u001b[0m\u001b[0mserial_evaluate\u001b[0m\u001b[0;34m(\u001b[0m\u001b[0;34m)\u001b[0m\u001b[0;34m\u001b[0m\u001b[0;34m\u001b[0m\u001b[0m\n\u001b[0m\u001b[1;32m    228\u001b[0m \u001b[0;34m\u001b[0m\u001b[0m\n\u001b[1;32m    229\u001b[0m                     \u001b[0;32mtry\u001b[0m\u001b[0;34m:\u001b[0m\u001b[0;34m\u001b[0m\u001b[0;34m\u001b[0m\u001b[0m\n",
            "\u001b[0;32m/usr/local/lib/python3.7/dist-packages/hyperopt/fmin.py\u001b[0m in \u001b[0;36mserial_evaluate\u001b[0;34m(self, N)\u001b[0m\n\u001b[1;32m    139\u001b[0m                 \u001b[0mctrl\u001b[0m \u001b[0;34m=\u001b[0m \u001b[0mbase\u001b[0m\u001b[0;34m.\u001b[0m\u001b[0mCtrl\u001b[0m\u001b[0;34m(\u001b[0m\u001b[0mself\u001b[0m\u001b[0;34m.\u001b[0m\u001b[0mtrials\u001b[0m\u001b[0;34m,\u001b[0m \u001b[0mcurrent_trial\u001b[0m\u001b[0;34m=\u001b[0m\u001b[0mtrial\u001b[0m\u001b[0;34m)\u001b[0m\u001b[0;34m\u001b[0m\u001b[0;34m\u001b[0m\u001b[0m\n\u001b[1;32m    140\u001b[0m                 \u001b[0;32mtry\u001b[0m\u001b[0;34m:\u001b[0m\u001b[0;34m\u001b[0m\u001b[0;34m\u001b[0m\u001b[0m\n\u001b[0;32m--> 141\u001b[0;31m                     \u001b[0mresult\u001b[0m \u001b[0;34m=\u001b[0m \u001b[0mself\u001b[0m\u001b[0;34m.\u001b[0m\u001b[0mdomain\u001b[0m\u001b[0;34m.\u001b[0m\u001b[0mevaluate\u001b[0m\u001b[0;34m(\u001b[0m\u001b[0mspec\u001b[0m\u001b[0;34m,\u001b[0m \u001b[0mctrl\u001b[0m\u001b[0;34m)\u001b[0m\u001b[0;34m\u001b[0m\u001b[0;34m\u001b[0m\u001b[0m\n\u001b[0m\u001b[1;32m    142\u001b[0m                 \u001b[0;32mexcept\u001b[0m \u001b[0mException\u001b[0m \u001b[0;32mas\u001b[0m \u001b[0me\u001b[0m\u001b[0;34m:\u001b[0m\u001b[0;34m\u001b[0m\u001b[0;34m\u001b[0m\u001b[0m\n\u001b[1;32m    143\u001b[0m                     \u001b[0mlogger\u001b[0m\u001b[0;34m.\u001b[0m\u001b[0minfo\u001b[0m\u001b[0;34m(\u001b[0m\u001b[0;34m'job exception: %s'\u001b[0m \u001b[0;34m%\u001b[0m \u001b[0mstr\u001b[0m\u001b[0;34m(\u001b[0m\u001b[0me\u001b[0m\u001b[0;34m)\u001b[0m\u001b[0;34m)\u001b[0m\u001b[0;34m\u001b[0m\u001b[0;34m\u001b[0m\u001b[0m\n",
            "\u001b[0;32m/usr/local/lib/python3.7/dist-packages/hyperopt/base.py\u001b[0m in \u001b[0;36mevaluate\u001b[0;34m(self, config, ctrl, attach_attachments)\u001b[0m\n\u001b[1;32m    842\u001b[0m                 \u001b[0mmemo\u001b[0m\u001b[0;34m=\u001b[0m\u001b[0mmemo\u001b[0m\u001b[0;34m,\u001b[0m\u001b[0;34m\u001b[0m\u001b[0;34m\u001b[0m\u001b[0m\n\u001b[1;32m    843\u001b[0m                 print_node_on_error=self.rec_eval_print_node_on_error)\n\u001b[0;32m--> 844\u001b[0;31m             \u001b[0mrval\u001b[0m \u001b[0;34m=\u001b[0m \u001b[0mself\u001b[0m\u001b[0;34m.\u001b[0m\u001b[0mfn\u001b[0m\u001b[0;34m(\u001b[0m\u001b[0mpyll_rval\u001b[0m\u001b[0;34m)\u001b[0m\u001b[0;34m\u001b[0m\u001b[0;34m\u001b[0m\u001b[0m\n\u001b[0m\u001b[1;32m    845\u001b[0m \u001b[0;34m\u001b[0m\u001b[0m\n\u001b[1;32m    846\u001b[0m         \u001b[0;32mif\u001b[0m \u001b[0misinstance\u001b[0m\u001b[0;34m(\u001b[0m\u001b[0mrval\u001b[0m\u001b[0;34m,\u001b[0m \u001b[0;34m(\u001b[0m\u001b[0mfloat\u001b[0m\u001b[0;34m,\u001b[0m \u001b[0mint\u001b[0m\u001b[0;34m,\u001b[0m \u001b[0mnp\u001b[0m\u001b[0;34m.\u001b[0m\u001b[0mnumber\u001b[0m\u001b[0;34m)\u001b[0m\u001b[0;34m)\u001b[0m\u001b[0;34m:\u001b[0m\u001b[0;34m\u001b[0m\u001b[0;34m\u001b[0m\u001b[0m\n",
            "\u001b[0;32m<ipython-input-94-4fbdfa5a33d9>\u001b[0m in \u001b[0;36mobjective\u001b[0;34m(space)\u001b[0m\n\u001b[1;32m     17\u001b[0m     clf.fit(X_train, y_train,\n\u001b[1;32m     18\u001b[0m             \u001b[0meval_set\u001b[0m \u001b[0;34m=\u001b[0m \u001b[0mevaluation\u001b[0m\u001b[0;34m,\u001b[0m \u001b[0meval_metric\u001b[0m\u001b[0;34m=\u001b[0m\u001b[0;34m\"auc\"\u001b[0m\u001b[0;34m,\u001b[0m\u001b[0;34m\u001b[0m\u001b[0;34m\u001b[0m\u001b[0m\n\u001b[0;32m---> 19\u001b[0;31m             early_stopping_rounds=10,verbose=False)\n\u001b[0m\u001b[1;32m     20\u001b[0m \u001b[0;34m\u001b[0m\u001b[0m\n\u001b[1;32m     21\u001b[0m     \u001b[0mpred\u001b[0m \u001b[0;34m=\u001b[0m \u001b[0mclf\u001b[0m\u001b[0;34m.\u001b[0m\u001b[0mpredict\u001b[0m\u001b[0;34m(\u001b[0m\u001b[0mX_test\u001b[0m\u001b[0;34m)\u001b[0m\u001b[0;34m\u001b[0m\u001b[0;34m\u001b[0m\u001b[0m\n",
            "\u001b[0;32m/usr/local/lib/python3.7/dist-packages/xgboost/sklearn.py\u001b[0m in \u001b[0;36mfit\u001b[0;34m(self, X, y, sample_weight, eval_set, eval_metric, early_stopping_rounds, verbose, xgb_model, sample_weight_eval_set, callbacks)\u001b[0m\n\u001b[1;32m    709\u001b[0m                         \u001b[0mmissing\u001b[0m\u001b[0;34m=\u001b[0m\u001b[0mself\u001b[0m\u001b[0;34m.\u001b[0m\u001b[0mmissing\u001b[0m\u001b[0;34m,\u001b[0m \u001b[0mweight\u001b[0m\u001b[0;34m=\u001b[0m\u001b[0msample_weight_eval_set\u001b[0m\u001b[0;34m[\u001b[0m\u001b[0mi\u001b[0m\u001b[0;34m]\u001b[0m\u001b[0;34m,\u001b[0m\u001b[0;34m\u001b[0m\u001b[0;34m\u001b[0m\u001b[0m\n\u001b[1;32m    710\u001b[0m                         nthread=self.n_jobs)\n\u001b[0;32m--> 711\u001b[0;31m                 \u001b[0;32mfor\u001b[0m \u001b[0mi\u001b[0m \u001b[0;32min\u001b[0m \u001b[0mrange\u001b[0m\u001b[0;34m(\u001b[0m\u001b[0mlen\u001b[0m\u001b[0;34m(\u001b[0m\u001b[0meval_set\u001b[0m\u001b[0;34m)\u001b[0m\u001b[0;34m)\u001b[0m\u001b[0;34m\u001b[0m\u001b[0;34m\u001b[0m\u001b[0m\n\u001b[0m\u001b[1;32m    712\u001b[0m             )\n\u001b[1;32m    713\u001b[0m             \u001b[0mnevals\u001b[0m \u001b[0;34m=\u001b[0m \u001b[0mlen\u001b[0m\u001b[0;34m(\u001b[0m\u001b[0mevals\u001b[0m\u001b[0;34m)\u001b[0m\u001b[0;34m\u001b[0m\u001b[0;34m\u001b[0m\u001b[0m\n",
            "\u001b[0;32m/usr/local/lib/python3.7/dist-packages/xgboost/sklearn.py\u001b[0m in \u001b[0;36m<genexpr>\u001b[0;34m(.0)\u001b[0m\n\u001b[1;32m    709\u001b[0m                         \u001b[0mmissing\u001b[0m\u001b[0;34m=\u001b[0m\u001b[0mself\u001b[0m\u001b[0;34m.\u001b[0m\u001b[0mmissing\u001b[0m\u001b[0;34m,\u001b[0m \u001b[0mweight\u001b[0m\u001b[0;34m=\u001b[0m\u001b[0msample_weight_eval_set\u001b[0m\u001b[0;34m[\u001b[0m\u001b[0mi\u001b[0m\u001b[0;34m]\u001b[0m\u001b[0;34m,\u001b[0m\u001b[0;34m\u001b[0m\u001b[0;34m\u001b[0m\u001b[0m\n\u001b[1;32m    710\u001b[0m                         nthread=self.n_jobs)\n\u001b[0;32m--> 711\u001b[0;31m                 \u001b[0;32mfor\u001b[0m \u001b[0mi\u001b[0m \u001b[0;32min\u001b[0m \u001b[0mrange\u001b[0m\u001b[0;34m(\u001b[0m\u001b[0mlen\u001b[0m\u001b[0;34m(\u001b[0m\u001b[0meval_set\u001b[0m\u001b[0;34m)\u001b[0m\u001b[0;34m)\u001b[0m\u001b[0;34m\u001b[0m\u001b[0;34m\u001b[0m\u001b[0m\n\u001b[0m\u001b[1;32m    712\u001b[0m             )\n\u001b[1;32m    713\u001b[0m             \u001b[0mnevals\u001b[0m \u001b[0;34m=\u001b[0m \u001b[0mlen\u001b[0m\u001b[0;34m(\u001b[0m\u001b[0mevals\u001b[0m\u001b[0;34m)\u001b[0m\u001b[0;34m\u001b[0m\u001b[0;34m\u001b[0m\u001b[0m\n",
            "\u001b[0;32m/usr/local/lib/python3.7/dist-packages/sklearn/preprocessing/_label.py\u001b[0m in \u001b[0;36mtransform\u001b[0;34m(self, y)\u001b[0m\n\u001b[1;32m    136\u001b[0m             \u001b[0;32mreturn\u001b[0m \u001b[0mnp\u001b[0m\u001b[0;34m.\u001b[0m\u001b[0marray\u001b[0m\u001b[0;34m(\u001b[0m\u001b[0;34m[\u001b[0m\u001b[0;34m]\u001b[0m\u001b[0;34m)\u001b[0m\u001b[0;34m\u001b[0m\u001b[0;34m\u001b[0m\u001b[0m\n\u001b[1;32m    137\u001b[0m \u001b[0;34m\u001b[0m\u001b[0m\n\u001b[0;32m--> 138\u001b[0;31m         \u001b[0;32mreturn\u001b[0m \u001b[0m_encode\u001b[0m\u001b[0;34m(\u001b[0m\u001b[0my\u001b[0m\u001b[0;34m,\u001b[0m \u001b[0muniques\u001b[0m\u001b[0;34m=\u001b[0m\u001b[0mself\u001b[0m\u001b[0;34m.\u001b[0m\u001b[0mclasses_\u001b[0m\u001b[0;34m)\u001b[0m\u001b[0;34m\u001b[0m\u001b[0;34m\u001b[0m\u001b[0m\n\u001b[0m\u001b[1;32m    139\u001b[0m \u001b[0;34m\u001b[0m\u001b[0m\n\u001b[1;32m    140\u001b[0m     \u001b[0;32mdef\u001b[0m \u001b[0minverse_transform\u001b[0m\u001b[0;34m(\u001b[0m\u001b[0mself\u001b[0m\u001b[0;34m,\u001b[0m \u001b[0my\u001b[0m\u001b[0;34m)\u001b[0m\u001b[0;34m:\u001b[0m\u001b[0;34m\u001b[0m\u001b[0;34m\u001b[0m\u001b[0m\n",
            "\u001b[0;32m/usr/local/lib/python3.7/dist-packages/sklearn/utils/_encode.py\u001b[0m in \u001b[0;36m_encode\u001b[0;34m(values, uniques, check_unknown)\u001b[0m\n\u001b[1;32m    187\u001b[0m             \u001b[0mdiff\u001b[0m \u001b[0;34m=\u001b[0m \u001b[0m_check_unknown\u001b[0m\u001b[0;34m(\u001b[0m\u001b[0mvalues\u001b[0m\u001b[0;34m,\u001b[0m \u001b[0muniques\u001b[0m\u001b[0;34m)\u001b[0m\u001b[0;34m\u001b[0m\u001b[0;34m\u001b[0m\u001b[0m\n\u001b[1;32m    188\u001b[0m             \u001b[0;32mif\u001b[0m \u001b[0mdiff\u001b[0m\u001b[0;34m:\u001b[0m\u001b[0;34m\u001b[0m\u001b[0;34m\u001b[0m\u001b[0m\n\u001b[0;32m--> 189\u001b[0;31m                 \u001b[0;32mraise\u001b[0m \u001b[0mValueError\u001b[0m\u001b[0;34m(\u001b[0m\u001b[0;34mf\"y contains previously unseen labels: {str(diff)}\"\u001b[0m\u001b[0;34m)\u001b[0m\u001b[0;34m\u001b[0m\u001b[0;34m\u001b[0m\u001b[0m\n\u001b[0m\u001b[1;32m    190\u001b[0m         \u001b[0;32mreturn\u001b[0m \u001b[0mnp\u001b[0m\u001b[0;34m.\u001b[0m\u001b[0msearchsorted\u001b[0m\u001b[0;34m(\u001b[0m\u001b[0muniques\u001b[0m\u001b[0;34m,\u001b[0m \u001b[0mvalues\u001b[0m\u001b[0;34m)\u001b[0m\u001b[0;34m\u001b[0m\u001b[0;34m\u001b[0m\u001b[0m\n\u001b[1;32m    191\u001b[0m \u001b[0;34m\u001b[0m\u001b[0m\n",
            "\u001b[0;31mValueError\u001b[0m: y contains previously unseen labels: [nan]"
          ]
        }
      ],
      "source": [
        "# Optimization algorithm\n",
        "\n",
        "trials = Trials()\n",
        "\n",
        "best_hyperparams = fmin(fn = objective,\n",
        "                        space = space,\n",
        "                        algo = tpe.suggest,\n",
        "                        max_evals = 100,\n",
        "                        trials = trials)"
      ]
    },
    {
      "cell_type": "code",
      "execution_count": null,
      "metadata": {
        "id": "4Wy5HJeSOzX9"
      },
      "outputs": [],
      "source": [
        "# Print Results\n",
        "\n",
        "print(\"The best hyperparameters are : \",\"\\n\")\n",
        "print(best_hyperparams)"
      ]
    },
    {
      "cell_type": "markdown",
      "metadata": {
        "id": "94TfyA5uyRzd"
      },
      "source": [
        "### 3.4 Fit Tuned Model on Training Set"
      ]
    },
    {
      "cell_type": "code",
      "execution_count": 16,
      "metadata": {
        "colab": {
          "base_uri": "https://localhost:8080/"
        },
        "id": "sYTkfvHvzczW",
        "outputId": "3edc27bd-84c0-44d1-9723-8ab37a0321f7"
      },
      "outputs": [
        {
          "output_type": "execute_result",
          "data": {
            "text/plain": [
              "XGBClassifier(colsample_bytree=0.7, gamma=1.5, learning_rate=0.8,\n",
              "              max_delta_step=6, max_depth=7, min_child_weight=8,\n",
              "              n_estimators=120, reg_alpha=1, reg_lambda=0, subsample=0.8)"
            ]
          },
          "metadata": {},
          "execution_count": 16
        }
      ],
      "source": [
        "# Best model according to Hyperparameter tuning\n",
        "best_random_xgb_model = xgb.XGBClassifier(objective ='binary:logistic', colsample_bytree=0.7, gamma=1.5, learning_rate=0.8,\n",
        "              max_delta_step=6, min_child_weight=8, n_estimators=120, reg_alpha=1, reg_lambda=0, subsample=0.8, max_depth=7)\n",
        "#best_random_xgb_model = Pipeline([(\"scaler\", StandardScaler()), (\"xgb\", xgb.XGBClassifier(objective ='binary:logistic', colsample_bytree=0.7, gamma=1.5, learning_rate=0.8,\n",
        "              #max_delta_step=6, min_child_weight=8, n_estimators=120, reg_alpha=1, reg_lambda=0, subsample=0.8, max_depth=7)),],)\n",
        "\n",
        "# new hyperparameter tuning (StandardScaler)\n",
        "#best_random_xgb_model = Pipeline(steps=[('scaler', StandardScaler()),\n",
        "                #('xgb', XGBClassifier(colsample_bytree=0.8, learning_rate=0.7, max_delta_step=4, max_depth=5, min_child_weight=5, n_estimators=140, random_state=42, reg_alpha=1, reg_lambda=0, subsample=0.8))])\n",
        "\n",
        "# Fit the tuned model on training set\n",
        "best_random_xgb_model.fit(X_train, y_train)"
      ]
    },
    {
      "cell_type": "markdown",
      "metadata": {
        "id": "UNo4wiDpyvNb"
      },
      "source": [
        "#### Evaluate Training Scores"
      ]
    },
    {
      "cell_type": "code",
      "execution_count": 17,
      "metadata": {
        "colab": {
          "base_uri": "https://localhost:8080/"
        },
        "id": "9z7_O15iyYjR",
        "outputId": "3c3171f6-c82c-4fc4-a952-a73e119202ef"
      },
      "outputs": [
        {
          "output_type": "stream",
          "name": "stdout",
          "text": [
            "Confusion matrix:\n",
            " [[6903    3]\n",
            " [   9  261]]\n",
            "Training Balanced Accuracy: 98.3116 %\n",
            "Training AUC: 99.9946 %\n",
            "Training Recall: 96.6667 %\n",
            "Training Precision: 98.8636 %\n",
            "Training F1: 97.7528 %\n",
            "Training F1 Weighted: 99.8319 %\n"
          ]
        }
      ],
      "source": [
        "y_train_hat_xgb = best_random_xgb_model.predict(X_train)\n",
        "y_train_hat_probs_xgb = best_random_xgb_model.predict_proba(X_train)[:,1]\n",
        "\n",
        "train_balanced_accuracy_xgb = balanced_accuracy_score(y_train, y_train_hat_xgb)*100\n",
        "train_auc_roc_xgb = roc_auc_score(y_train, y_train_hat_probs_xgb)*100\n",
        "train_recall_xgb = recall_score(y_train, y_train_hat_xgb)*100\n",
        "train_precision_xgb = precision_score(y_train, y_train_hat_xgb)*100\n",
        "train_f1_xgb = f1_score(y_train, y_train_hat_xgb)*100\n",
        "train_f1_weighted_xgb = f1_score(y_train, y_train_hat_xgb, average='weighted')*100\n",
        "\n",
        "print('Confusion matrix:\\n', confusion_matrix(y_train, y_train_hat_xgb))\n",
        "print('Training Balanced Accuracy: %.4f %%' % train_balanced_accuracy_xgb)\n",
        "print('Training AUC: %.4f %%' % train_auc_roc_xgb)\n",
        "print('Training Recall: %.4f %%' % train_recall_xgb)\n",
        "print('Training Precision: %.4f %%' % train_precision_xgb)\n",
        "print('Training F1: %.4f %%' % train_f1_xgb)\n",
        "print('Training F1 Weighted: %.4f %%' % train_f1_weighted_xgb)"
      ]
    },
    {
      "cell_type": "markdown",
      "metadata": {
        "id": "DPTcku5M4Xos"
      },
      "source": [
        "#### Visualize results"
      ]
    },
    {
      "cell_type": "code",
      "execution_count": null,
      "metadata": {
        "colab": {
          "base_uri": "https://localhost:8080/",
          "height": 315
        },
        "id": "1trpgvPl4YuP",
        "outputId": "707425a5-dd0a-4c70-fe0a-0f245c5c2eaf"
      },
      "outputs": [
        {
          "output_type": "stream",
          "name": "stdout",
          "text": [
            "Saving figure pred_prob_xgb\n"
          ]
        },
        {
          "output_type": "display_data",
          "data": {
            "text/plain": [
              "<Figure size 720x288 with 1 Axes>"
            ],
            "image/png": "[encoded data removed]"
          },
          "metadata": {
            "needs_background": "light"
          }
        }
      ],
      "source": [
        "# Histogram of predicted probabilities (\"risk estimates\") from Gradient Boosted Forest Model\n",
        "plt.figure(figsize=(10,4))\n",
        "#plt.suptitle('Predicted probabilities from Gradient Boosted Forest Model', fontsize=15)\n",
        "plt.hist(y_train_hat_probs_xgb[y_train==0], bins=50, label='Negatives')\n",
        "plt.hist(y_train_hat_probs_xgb[y_train==1], bins=50, label='Positives', alpha=0.7, color='r')\n",
        "plt.xlabel('Probability of being Positive Class (y = 1)', fontsize=15)\n",
        "plt.ylabel('Frequency', fontsize=20)\n",
        "plt.legend(fontsize=10)\n",
        "plt.tick_params(axis='both', labelsize=12, pad=5)\n",
        "save_fig(\"pred_prob_xgb\")\n",
        "plt.show() "
      ]
    },
    {
      "cell_type": "markdown",
      "metadata": {
        "id": "CvOJfQVLiXEf"
      },
      "source": [
        "### 3.4 Cross-Validation"
      ]
    },
    {
      "cell_type": "markdown",
      "metadata": {
        "id": "Oo6jz7DcM2sD"
      },
      "source": [
        "#### 3.4.1 K-Fold Cross-Validation"
      ]
    },
    {
      "cell_type": "code",
      "execution_count": 28,
      "metadata": {
        "id": "e2u6S2oiN72F"
      },
      "outputs": [],
      "source": [
        "cv = RepeatedKFold(n_splits = 7, n_repeats = 2)"
      ]
    },
    {
      "cell_type": "code",
      "execution_count": null,
      "metadata": {
        "id": "ottFcdv5Nwja"
      },
      "outputs": [],
      "source": [
        "best_random_model_xgb_cv = cross_validate(best_random_xgb_model, X_train, y_train, scoring = [\"balanced_accuracy\", \"roc_auc\", \"recall\", \"f1\", \"f1_weighted\"], cv = cv)"
      ]
    },
    {
      "cell_type": "code",
      "execution_count": null,
      "metadata": {
        "colab": {
          "base_uri": "https://localhost:8080/"
        },
        "id": "IBCz9KC5kOue",
        "outputId": "13b7d175-7f32-47cc-f2bc-a322f6cac5dc"
      },
      "outputs": [
        {
          "output_type": "stream",
          "name": "stdout",
          "text": [
            "0.6414187757430857\n",
            "0.9308440951673168\n",
            "0.3923716011150261\n",
            "0.9609726495862994\n"
          ]
        }
      ],
      "source": [
        "print(np.sum(best_random_model_xgb_cv[\"test_balanced_accuracy\"]) / len(best_random_model_xgb_cv[\"test_balanced_accuracy\"]))\n",
        "print(np.sum(best_random_model_xgb_cv[\"test_roc_auc\"]) / len(best_random_model_xgb_cv[\"test_roc_auc\"]))\n",
        "#print(np.sum(best_random_model_xgb_cv[\"test_recall\"]) / len(best_random_model_xgb_cv[\"test_recall\"]))\n",
        "print(np.sum(best_random_model_xgb_cv[\"test_f1\"]) / len(best_random_model_xgb_cv[\"test_f1\"]))\n",
        "print(np.sum(best_random_model_xgb_cv[\"test_f1_weighted\"]) / len(best_random_model_xgb_cv[\"test_f1_weighted\"]))"
      ]
    },
    {
      "cell_type": "markdown",
      "metadata": {
        "id": "4ZByJJuVNSRa"
      },
      "source": [
        "#### 3.4.2 Walk-Forward-Validation"
      ]
    },
    {
      "cell_type": "code",
      "execution_count": 30,
      "metadata": {
        "id": "prepKTQoDowt"
      },
      "outputs": [],
      "source": [
        "tscv = TimeSeriesSplit(n_splits = 7)"
      ]
    },
    {
      "cell_type": "code",
      "execution_count": null,
      "metadata": {
        "id": "tENNRETfFJ4G"
      },
      "outputs": [],
      "source": [
        "best_random_model_xgb_tscv = cross_validate(best_random_xgb_model, X_train, y_train, scoring = [\"balanced_accuracy\", \"roc_auc\", \"recall\", \"f1\", \"f1_weighted\"], cv = tscv)"
      ]
    },
    {
      "cell_type": "code",
      "execution_count": null,
      "metadata": {
        "colab": {
          "base_uri": "https://localhost:8080/"
        },
        "id": "jAg1mhq6D_Bf",
        "outputId": "16699558-b444-452b-8a88-8c73fdb079ec"
      },
      "outputs": [
        {
          "output_type": "stream",
          "name": "stdout",
          "text": [
            "0.5575634834904756\n",
            "0.7674124936664891\n",
            "0.18553728018013735\n",
            "0.9512182982483103\n"
          ]
        }
      ],
      "source": [
        "print(np.sum(best_random_model_xgb_tscv[\"test_balanced_accuracy\"]) / len(best_random_model_xgb_tscv[\"test_balanced_accuracy\"]))\n",
        "print(np.sum(best_random_model_xgb_tscv[\"test_roc_auc\"]) / len(best_random_model_xgb_tscv[\"test_roc_auc\"]))\n",
        "#print(np.sum(best_random_model_xgb_tscv[\"test_recall\"]) / len(best_random_model_xgb_tscv[\"test_recall\"]))\n",
        "print(np.sum(best_random_model_xgb_tscv[\"test_f1\"]) / len(best_random_model_xgb_tscv[\"test_f1\"]))\n",
        "print(np.sum(best_random_model_xgb_tscv[\"test_f1_weighted\"]) / len(best_random_model_xgb_tscv[\"test_f1_weighted\"]))"
      ]
    },
    {
      "cell_type": "markdown",
      "metadata": {
        "id": "d37Fc5MKncX6"
      },
      "source": [
        "### 3.5 Assessing Feature Importance"
      ]
    },
    {
      "cell_type": "code",
      "execution_count": 18,
      "metadata": {
        "id": "4YLW6SOJC0bt"
      },
      "outputs": [],
      "source": [
        "feature_importances_random_xgb = best_random_xgb_model.feature_importances_"
      ]
    },
    {
      "cell_type": "code",
      "execution_count": 21,
      "metadata": {
        "id": "1V7HfDQYPVgY"
      },
      "outputs": [],
      "source": [
        "# Create a dataframe for the model's feature importance\n",
        "feat_df_xgb = pd.DataFrame(\n",
        "    feature_importances_random_xgb, columns=['feature importance'], \n",
        "    index=X_train.columns).sort_values(\n",
        "    'feature importance', ascending=False)"
      ]
    },
    {
      "cell_type": "code",
      "execution_count": null,
      "metadata": {
        "id": "LC4RxVO4wJkm"
      },
      "outputs": [],
      "source": [
        "sorted(zip(feature_importances_random_xgb, X_train), reverse=True)"
      ]
    },
    {
      "cell_type": "code",
      "execution_count": null,
      "metadata": {
        "colab": {
          "base_uri": "https://localhost:8080/"
        },
        "id": "JZuKN6jlwQb4",
        "outputId": "c9fa9221-76cd-4a43-f4c4-becb8c75f389"
      },
      "outputs": [
        {
          "output_type": "stream",
          "name": "stdout",
          "text": [
            "                                       feature importance\n",
            "lagged_diff_year_prior_v2x_elecoff               0.073415\n",
            "lagged_v2x_regime_amb.0                          0.038598\n",
            "lagged_diff_year_prior_v2elembaut                0.023422\n",
            "lagged_v2clacfree                                0.022865\n",
            "lagged_diff_year_prior_v2ellocons                0.022171\n",
            "lagged_diff_year_prior_v2xlg_legcon              0.018834\n",
            "lagged_is_closed_autocracy                       0.017220\n",
            "lagged_diff_year_prior_v2csantimv                0.015267\n",
            "lagged_v2jucorrdc                                0.015054\n",
            "lagged_diff_year_prior_v2xeg_eqprotec            0.013669\n",
            "lagged_v2x_clphy                                 0.013051\n",
            "lagged_diff_year_prior_v2x_polyarchy             0.012607\n",
            "lagged_v2ellocumul                               0.011051\n",
            "lagged_diff_year_prior_v2x_clpol                 0.010151\n",
            "lagged_low_border_case                           0.009820\n",
            "lagged_v2xnp_client                              0.009402\n",
            "lagged_v2x_accountability                        0.009034\n",
            "lagged_v2clslavef                                0.008970\n",
            "lagged_diff_year_prior_v2x_clpriv                0.008953\n",
            "lagged_diff_year_prior_v2csprtcpt                0.008897\n"
          ]
        }
      ],
      "source": [
        "most_important_features_xgb_20 = feat_df_xgb.nlargest(20, columns = ['feature importance']).sort_values(by = ['feature importance'], ascending=False)\n",
        "print(most_important_features_xgb_20)"
      ]
    },
    {
      "cell_type": "code",
      "execution_count": 22,
      "metadata": {
        "colab": {
          "base_uri": "https://localhost:8080/",
          "height": 603
        },
        "id": "uUvrpaNPP2y5",
        "outputId": "c3cc23fc-5cdf-4df8-e841-d803bae20469"
      },
      "outputs": [
        {
          "output_type": "stream",
          "name": "stdout",
          "text": [
            "Saving figure feat_import_xgb_bar\n"
          ]
        },
        {
          "output_type": "display_data",
          "data": {
            "text/plain": [
              "<Figure size 432x576 with 1 Axes>"
            ],
            "image/png": "[encoded data removed]"
          },
          "metadata": {
            "needs_background": "light"
          }
        }
      ],
      "source": [
        "feat_df_xgb.nlargest(20, columns = ['feature importance']).sort_values(by = ['feature importance'], ascending=True).plot(kind='barh', figsize=(6,8))\n",
        "save_fig(\"feat_import_xgb_bar\")"
      ]
    },
    {
      "cell_type": "code",
      "execution_count": 23,
      "metadata": {
        "id": "GKSsJbqlspv_"
      },
      "outputs": [],
      "source": [
        "# reduced form wiht most 10 important features\n",
        "most_important_features_xgb_10 = feat_df_xgb.nlargest(10, columns = ['feature importance']).sort_values(by = ['feature importance'], ascending=False)\n",
        "\n",
        "names_important_features_xgb_10 = most_important_features_xgb_10.index.values.tolist()\n",
        "\n",
        "df_most_important_xgb = X_train[names_important_features_xgb_10]"
      ]
    },
    {
      "cell_type": "code",
      "execution_count": 25,
      "metadata": {
        "colab": {
          "base_uri": "https://localhost:8080/",
          "height": 529
        },
        "id": "Clje0UQGQ1vH",
        "outputId": "dbf2bfe4-bb0b-47ca-9847-57c420211dbf"
      },
      "outputs": [
        {
          "output_type": "stream",
          "name": "stdout",
          "text": [
            "Saving figure heatmap_features_xgb\n"
          ]
        },
        {
          "output_type": "display_data",
          "data": {
            "text/plain": [
              "<Figure size 576x576 with 2 Axes>"
            ],
            "image/png": "[encoded data removed]"
          },
          "metadata": {
            "needs_background": "light"
          }
        }
      ],
      "source": [
        "def correlation_heatmap(train):\n",
        "    correlations = train.corr()\n",
        "\n",
        "    fig, ax = plt.subplots(figsize=(8,8))\n",
        "    sns.heatmap(correlations, vmax=1.0, center=0, fmt='.2f', cmap=\"YlGnBu\",\n",
        "                square=True, linewidths=.5, annot=True, cbar_kws={\"shrink\": .70}\n",
        "                )\n",
        "    #plt.title('Heatmap Most Important Features Gradient Boosted Forest Model\\n', fontsize=15)\n",
        "    save_fig(\"heatmap_features_xgb\")\n",
        "    \n",
        "correlation_heatmap(df_most_important_xgb)"
      ]
    },
    {
      "cell_type": "markdown",
      "metadata": {
        "id": "SUo6n2u80w3p"
      },
      "source": [
        "## 4. Model 2: Support-Vector Machines (SVM)"
      ]
    },
    {
      "cell_type": "markdown",
      "metadata": {
        "id": "bCeEhTopB2Tp"
      },
      "source": [
        "### 4.1 Fit Plain Model on Training Set"
      ]
    },
    {
      "cell_type": "code",
      "execution_count": null,
      "metadata": {
        "id": "PjtZwQB2B2T4"
      },
      "outputs": [],
      "source": [
        "# Build a plain model prior to hyperparameter tuning (XGBoost without parameters)\n",
        "#model_svm_plain = SVC()\n",
        "#model_svm_plain = SVC(kernel = \"poly\", degree=3, coef0=1, C=5, probability=True)\n",
        "#model_svm_plain = Pipeline ([(\"scaler\", StandardScaler()), (\"svm_clf\", SVC(kernel = \"poly\", degree=3, coef0=1, C=5, probability=True)),],)\n",
        "model_svm_plain = Pipeline([(\"scaler\", StandardScaler()), (\"svm_clf\", SVC(probability=True)),],)"
      ]
    },
    {
      "cell_type": "code",
      "execution_count": null,
      "metadata": {
        "colab": {
          "base_uri": "https://localhost:8080/"
        },
        "id": "ZFSQbO0PB2T4",
        "outputId": "cc894e8c-4f5d-4191-87f6-2b357d788d3d"
      },
      "outputs": [
        {
          "data": {
            "text/plain": [
              "Pipeline(steps=[('scaler', StandardScaler()),\n",
              "                ('svm_clf',\n",
              "                 SVC(C=5, coef0=1, kernel='poly', probability=True))])"
            ]
          },
          "execution_count": 12,
          "metadata": {},
          "output_type": "execute_result"
        }
      ],
      "source": [
        "# Fit the plain model on training set\n",
        "model_svm_plain.fit(X_train, y_train)"
      ]
    },
    {
      "cell_type": "markdown",
      "metadata": {
        "id": "82kiA8w7B2T4"
      },
      "source": [
        "#### Evaluate Training Scores"
      ]
    },
    {
      "cell_type": "code",
      "execution_count": null,
      "metadata": {
        "colab": {
          "base_uri": "https://localhost:8080/"
        },
        "id": "ozTvu5z1B2T5",
        "outputId": "5be185b7-1a4d-4734-d400-bc79279e52a4"
      },
      "outputs": [
        {
          "name": "stdout",
          "output_type": "stream",
          "text": [
            "Confusion matrix:\n",
            " [[6906    0]\n",
            " [  30  240]]\n",
            "Training Balanced Accuracy: 94.4444 %\n",
            "Training AUC: 99.9930 %\n",
            "Training Recall: 88.8889 %\n",
            "Training Precision: 100.0000 %\n",
            "Training F1: 94.1176 %\n",
            "Training F1 Weighted: 99.5701 %\n"
          ]
        }
      ],
      "source": [
        "# For plain model without tuned hyperparameters\n",
        "y_train_hat_svm_plain = model_svm_plain.predict(X_train)\n",
        "y_train_hat_probs_svm_plain = model_svm_plain.predict_proba(X_train)[:,1]\n",
        "\n",
        "train_balanced_accuracy_svm_plain = balanced_accuracy_score(y_train, y_train_hat_svm_plain)*100\n",
        "train_auc_roc_svm_plain = roc_auc_score(y_train, y_train_hat_probs_svm_plain)*100\n",
        "train_recall_svm_plain = recall_score(y_train, y_train_hat_svm_plain)*100\n",
        "train_precision_svm_plain = precision_score(y_train, y_train_hat_svm_plain)*100\n",
        "train_f1_svm_plain = f1_score(y_train, y_train_hat_svm_plain)*100\n",
        "train_f1_weighted_svm_plain = f1_score(y_train, y_train_hat_svm_plain, average='weighted')*100\n",
        "\n",
        "print('Confusion matrix:\\n', confusion_matrix(y_train, y_train_hat_svm_plain))\n",
        "print('Training Balanced Accuracy: %.4f %%' % train_balanced_accuracy_svm_plain)\n",
        "print('Training AUC: %.4f %%' % train_auc_roc_svm_plain)\n",
        "print('Training Recall: %.4f %%' % train_recall_svm_plain)\n",
        "print('Training Precision: %.4f %%' % train_precision_svm_plain)\n",
        "print('Training F1: %.4f %%' % train_f1_svm_plain)\n",
        "print('Training F1 Weighted: %.4f %%' % train_f1_weighted_svm_plain)"
      ]
    },
    {
      "cell_type": "markdown",
      "metadata": {
        "id": "Rkkvws2c5SNb"
      },
      "source": [
        "### 4.2 Hyperparameter Tuning"
      ]
    },
    {
      "cell_type": "markdown",
      "metadata": {
        "id": "-2JV2IOO4Ha_"
      },
      "source": [
        "#### Randomized grid search"
      ]
    },
    {
      "cell_type": "code",
      "execution_count": 1,
      "metadata": {
        "id": "H5ELZh0y1AMR"
      },
      "outputs": [],
      "source": [
        "params = {'svm__C': [0.01, 0.05, 0.1, 1, 10, 100], 'svm__degree': [3, 4, 5], 'svm__gamma': [1,0.1,0.01,0.001], 'svm__kernel': ['rbf', 'poly', 'sigmoid']}"
      ]
    },
    {
      "cell_type": "code",
      "execution_count": 7,
      "metadata": {
        "colab": {
          "base_uri": "https://localhost:8080/"
        },
        "id": "rdCpQgV31KT3",
        "outputId": "eecf7ecb-f5f4-4dff-95b5-9f2eb523e2cc"
      },
      "outputs": [
        {
          "output_type": "execute_result",
          "data": {
            "text/plain": [
              "RandomizedSearchCV(cv=7,\n",
              "                   estimator=Pipeline(steps=[('scaler', StandardScaler()),\n",
              "                                             ('svm', SVC())]),\n",
              "                   n_iter=70,\n",
              "                   param_distributions={'svm__C': [0.01, 0.05, 0.1, 1, 10, 100],\n",
              "                                        'svm__degree': [3, 4, 5],\n",
              "                                        'svm__gamma': [1, 0.1, 0.01, 0.001],\n",
              "                                        'svm__kernel': ['rbf', 'poly',\n",
              "                                                        'sigmoid']},\n",
              "                   random_state=42, scoring='f1')"
            ]
          },
          "metadata": {},
          "execution_count": 7
        }
      ],
      "source": [
        "svm_model_random = Pipeline([(\"scaler\", StandardScaler()), (\"svm\", SVC()),],)\n",
        "\n",
        "random_search_svm = RandomizedSearchCV(svm_model_random, \n",
        "                                   param_distributions = params, \n",
        "                                   n_iter = 70, \n",
        "                                   scoring = 'f1',  \n",
        "                                   cv = 7,\n",
        "                                   random_state=42)\n",
        "\n",
        "random_search_svm.fit(X_train, y_train)"
      ]
    },
    {
      "cell_type": "code",
      "execution_count": 8,
      "metadata": {
        "colab": {
          "base_uri": "https://localhost:8080/"
        },
        "id": "dz6zSXPfBI3B",
        "outputId": "4badadd0-a878-4a6a-dea9-4e6de52b69d9"
      },
      "outputs": [
        {
          "output_type": "stream",
          "name": "stdout",
          "text": [
            "\n",
            " Best hyperparameters:\n",
            "{'svm__kernel': 'rbf', 'svm__gamma': 0.001, 'svm__degree': 4, 'svm__C': 100}\n"
          ]
        }
      ],
      "source": [
        "print('\\n Best hyperparameters:')\n",
        "print(random_search_svm.best_params_)"
      ]
    },
    {
      "cell_type": "code",
      "execution_count": 9,
      "metadata": {
        "colab": {
          "base_uri": "https://localhost:8080/"
        },
        "id": "yTegCUgjBYCq",
        "outputId": "62edc60d-ca3a-43b8-d375-04579df83dab"
      },
      "outputs": [
        {
          "output_type": "stream",
          "name": "stdout",
          "text": [
            "\n",
            " Best estimator:\n",
            "Pipeline(steps=[('scaler', StandardScaler()),\n",
            "                ('svm', SVC(C=100, degree=4, gamma=0.001))])\n"
          ]
        }
      ],
      "source": [
        "print('\\n Best estimator:')\n",
        "print(random_search_svm.best_estimator_)"
      ]
    },
    {
      "cell_type": "markdown",
      "metadata": {
        "id": "XE2qbMqC5RwC"
      },
      "source": [
        "### 4.3 Fit Tuned Model on the Training Set"
      ]
    },
    {
      "cell_type": "markdown",
      "metadata": {
        "id": "2kyXx6l5FW5T"
      },
      "source": [
        "#### Evaluate Training Scores"
      ]
    },
    {
      "cell_type": "code",
      "execution_count": null,
      "metadata": {
        "colab": {
          "base_uri": "https://localhost:8080/"
        },
        "id": "muUZsjPk2Dt9",
        "outputId": "e181967b-06a4-4711-9043-921067377115"
      },
      "outputs": [
        {
          "output_type": "execute_result",
          "data": {
            "text/plain": [
              "Pipeline(steps=[('scaler', StandardScaler()),\n",
              "                ('svm', SVC(C=100, degree=4, gamma=0.001, probability=True))])"
            ]
          },
          "metadata": {},
          "execution_count": 15
        }
      ],
      "source": [
        "# Best model according to Hyperparameter tuning\n",
        "#best_random_svm_model = SVC(probability=True)\n",
        "best_random_svm_model = Pipeline(steps=[('scaler', StandardScaler()),\n",
        "                ('svm', SVC(C=100, degree=4, gamma=0.001, probability=True))])\n",
        "\n",
        "# Fit the tuned model on training set\n",
        "best_random_svm_model.fit(X_train, y_train)"
      ]
    },
    {
      "cell_type": "code",
      "execution_count": null,
      "metadata": {
        "colab": {
          "base_uri": "https://localhost:8080/"
        },
        "id": "_LmaaGqD5fCQ",
        "outputId": "a16a04f5-850a-4b91-946e-a2e7f836ac31"
      },
      "outputs": [
        {
          "output_type": "stream",
          "name": "stdout",
          "text": [
            "Confusion matrix:\n",
            " [[6904    2]\n",
            " [  10  260]]\n",
            "Training Balanced Accuracy: 98.1337 %\n",
            "Training AUC: 99.9964 %\n",
            "Training F1: 97.7444 %\n",
            "Training F1 Weighted: 99.8316 %\n"
          ]
        }
      ],
      "source": [
        "y_train_hat_svm = best_random_svm_model.predict(X_train)\n",
        "y_train_hat_probs_svm = best_random_svm_model.predict_proba(X_train)[:,1]\n",
        "\n",
        "train_balanced_accuracy_svm = balanced_accuracy_score(y_train, y_train_hat_svm)*100\n",
        "train_auc_roc_svm = roc_auc_score(y_train, y_train_hat_probs_svm)*100\n",
        "train_recall_svm = recall_score(y_train, y_train_hat_svm)*100\n",
        "train_precision_svm = precision_score(y_train, y_train_hat_svm)*100\n",
        "train_f1_svm = f1_score(y_train, y_train_hat_svm)*100\n",
        "train_f1_weighted_svm = f1_score(y_train, y_train_hat_svm, average='weighted')*100\n",
        "\n",
        "print('Confusion matrix:\\n', confusion_matrix(y_train, y_train_hat_svm))\n",
        "print('Training Balanced Accuracy: %.4f %%' % train_balanced_accuracy_svm)\n",
        "print('Training AUC: %.4f %%' % train_auc_roc_svm)\n",
        "#print('Training Recall: %.4f %%' % train_recall_svm)\n",
        "#print('Training Precision: %.4f %%' % train_precision_svm)\n",
        "print('Training F1: %.4f %%' % train_f1_svm)\n",
        "print('Training F1 Weighted: %.4f %%' % train_f1_weighted_svm)"
      ]
    },
    {
      "cell_type": "markdown",
      "metadata": {
        "id": "rImxP1TcFZNv"
      },
      "source": [
        "#### Visualize results"
      ]
    },
    {
      "cell_type": "code",
      "execution_count": null,
      "metadata": {
        "colab": {
          "base_uri": "https://localhost:8080/",
          "height": 315
        },
        "id": "EzvtL66C5frn",
        "outputId": "3cbcd3de-4305-4c3e-9f08-1d521c0cfec5"
      },
      "outputs": [
        {
          "output_type": "stream",
          "name": "stdout",
          "text": [
            "Saving figure pred_prob_svm\n"
          ]
        },
        {
          "output_type": "display_data",
          "data": {
            "text/plain": [
              "<Figure size 720x288 with 1 Axes>"
            ],
            "image/png": "[encoded data removed]"
          },
          "metadata": {
            "needs_background": "light"
          }
        }
      ],
      "source": [
        "# Histogram of predicted probabilities (\"risk estimates\") from SVM\n",
        "plt.figure(figsize=(10,4))\n",
        "#plt.suptitle('Predicted probabilities from SVM', fontsize=15)\n",
        "plt.hist(y_train_hat_probs_svm[y_train==0], bins=50, label='Negatives')\n",
        "plt.hist(y_train_hat_probs_svm[y_train==1], bins=50, label='Positives', alpha=0.7, color='r')\n",
        "plt.xlabel('Probability of being Positive Class (y = 1)', fontsize=15)\n",
        "plt.ylabel('Frequency', fontsize=20)\n",
        "plt.legend(fontsize=10)\n",
        "plt.tick_params(axis='both', labelsize=12, pad=5)\n",
        "save_fig(\"pred_prob_svm\")\n",
        "plt.show() "
      ]
    },
    {
      "cell_type": "markdown",
      "metadata": {
        "id": "AqHf5QPP5SH8"
      },
      "source": [
        "### 4.4 Walk-Forward-Validation"
      ]
    },
    {
      "cell_type": "markdown",
      "metadata": {
        "id": "dpwXijzn48hu"
      },
      "source": [
        "#### 4.4.1 K-Fold Cross-Validation"
      ]
    },
    {
      "cell_type": "code",
      "execution_count": null,
      "metadata": {
        "id": "9t0CrMLK48h8"
      },
      "outputs": [],
      "source": [
        "cv = RepeatedKFold(n_splits = 7, n_repeats = 2)"
      ]
    },
    {
      "cell_type": "code",
      "execution_count": null,
      "metadata": {
        "id": "tCFV4aHX48h8"
      },
      "outputs": [],
      "source": [
        "best_random_model_svm_cv = cross_validate(best_random_svm_model, X_train, y_train, scoring = [\"balanced_accuracy\", \"roc_auc\", \"recall\", \"f1\", \"f1_weighted\"], cv = cv)"
      ]
    },
    {
      "cell_type": "code",
      "execution_count": null,
      "metadata": {
        "colab": {
          "base_uri": "https://localhost:8080/"
        },
        "id": "nH8tHTaC48h8",
        "outputId": "6951e063-16dc-4458-8b26-899869d367a3"
      },
      "outputs": [
        {
          "output_type": "stream",
          "name": "stdout",
          "text": [
            "0.6155750525209722\n",
            "0.8531256522731949\n",
            "0.29746225733583664\n",
            "0.9517556899861457\n"
          ]
        }
      ],
      "source": [
        "print(np.sum(best_random_model_svm_cv[\"test_balanced_accuracy\"]) / len(best_random_model_svm_cv[\"test_balanced_accuracy\"]))\n",
        "print(np.sum(best_random_model_svm_cv[\"test_roc_auc\"]) / len(best_random_model_svm_cv[\"test_roc_auc\"]))\n",
        "#print(np.sum(best_random_model_svm_cv[\"test_recall\"]) / len(best_random_model_svm_cv[\"test_recall\"]))\n",
        "print(np.sum(best_random_model_svm_cv[\"test_f1\"]) / len(best_random_model_svm_cv[\"test_f1\"]))\n",
        "print(np.sum(best_random_model_svm_cv[\"test_f1_weighted\"]) / len(best_random_model_svm_cv[\"test_f1_weighted\"]))"
      ]
    },
    {
      "cell_type": "markdown",
      "metadata": {
        "id": "3zFzNlyF5U8u"
      },
      "source": [
        "#### 4.4.2 Walk-Forward-Validation"
      ]
    },
    {
      "cell_type": "code",
      "execution_count": null,
      "metadata": {
        "id": "6ZFLK-kA5U8v"
      },
      "outputs": [],
      "source": [
        "tscv = TimeSeriesSplit(n_splits = 7)"
      ]
    },
    {
      "cell_type": "code",
      "execution_count": null,
      "metadata": {
        "id": "b4yXKqOB5U8v"
      },
      "outputs": [],
      "source": [
        "best_random_model_svm_tscv = cross_validate(best_random_svm_model, X_train, y_train, scoring = [\"balanced_accuracy\", \"roc_auc\", \"recall\", \"f1\", \"f1_weighted\"], cv = tscv)"
      ]
    },
    {
      "cell_type": "code",
      "execution_count": null,
      "metadata": {
        "colab": {
          "base_uri": "https://localhost:8080/"
        },
        "id": "7UIHBcH05U8v",
        "outputId": "675ceeea-5e63-473a-8ef1-146b918c4395"
      },
      "outputs": [
        {
          "output_type": "stream",
          "name": "stdout",
          "text": [
            "0.5559846839578492\n",
            "0.7496960610489742\n",
            "0.15249007674712386\n",
            "0.9406388357736685\n"
          ]
        }
      ],
      "source": [
        "print(np.sum(best_random_model_svm_tscv[\"test_balanced_accuracy\"]) / len(best_random_model_svm_tscv[\"test_balanced_accuracy\"]))\n",
        "print(np.sum(best_random_model_svm_tscv[\"test_roc_auc\"]) / len(best_random_model_svm_tscv[\"test_roc_auc\"]))\n",
        "#print(np.sum(best_random_model_svm_tscv[\"test_recall\"]) / len(best_random_model_svm_tscv[\"test_recall\"]))\n",
        "print(np.sum(best_random_model_svm_tscv[\"test_f1\"]) / len(best_random_model_svm_tscv[\"test_f1\"]))\n",
        "print(np.sum(best_random_model_svm_tscv[\"test_f1_weighted\"]) / len(best_random_model_svm_tscv[\"test_f1_weighted\"]))"
      ]
    },
    {
      "cell_type": "markdown",
      "metadata": {
        "id": "QSTTFa3L5SSl"
      },
      "source": [
        "### 4.5 Assessing Feature Importance (not possible for Polynomial Kernel)"
      ]
    },
    {
      "cell_type": "code",
      "source": [
        "best_random_svm_model[\"svm\"]\n",
        "#permutation_importance"
      ],
      "metadata": {
        "id": "3ZnuuUb7dqCy"
      },
      "execution_count": null,
      "outputs": []
    },
    {
      "cell_type": "code",
      "execution_count": null,
      "metadata": {
        "id": "P13nFrhL6wce"
      },
      "outputs": [],
      "source": [
        "# Create a dataframe for the model's feature importance\n",
        "feat_df_svm = pd.DataFrame(\n",
        "    feature_importances_random_svm, columns=['feature importance'], \n",
        "    index=X_train.columns).sort_values(\n",
        "    'feature importance', ascending=False)"
      ]
    },
    {
      "cell_type": "code",
      "execution_count": null,
      "metadata": {
        "id": "xjX_7_Fu6wcf"
      },
      "outputs": [],
      "source": [
        "sorted(zip(feature_importances_random_svm, X_train), reverse=True)"
      ]
    },
    {
      "cell_type": "code",
      "execution_count": null,
      "metadata": {
        "id": "2CqnLyBr6wcf"
      },
      "outputs": [],
      "source": [
        "most_important_features_svm_20 = feat_df_svm.nlargest(20, columns = ['feature importance']).sort_values(by = ['feature importance'], ascending=False)\n",
        "print(most_important_features_svm_20)"
      ]
    },
    {
      "cell_type": "code",
      "execution_count": null,
      "metadata": {
        "id": "u1RSfkvv6wcf"
      },
      "outputs": [],
      "source": [
        "feat_df_svm.nlargest(20, columns = ['feature importance']).sort_values(by = ['feature importance'], ascending=True).plot(kind='barh', figsize=(5,8))"
      ]
    },
    {
      "cell_type": "code",
      "execution_count": null,
      "metadata": {
        "id": "_LzkxuQe6wcf"
      },
      "outputs": [],
      "source": [
        "# reduced form wiht most 10 important features\n",
        "most_important_features_svm_10 = feat_df_svm.nlargest(10, columns = ['feature importance']).sort_values(by = ['feature importance'], ascending=False)\n",
        "\n",
        "names_important_features_svm_10 = most_important_features_svm_10.index.values.tolist()\n",
        "\n",
        "df_most_important_svm = X_train[names_important_features_svm_10]"
      ]
    },
    {
      "cell_type": "code",
      "execution_count": null,
      "metadata": {
        "id": "3Myg3pvO6wcf"
      },
      "outputs": [],
      "source": [
        "def correlation_heatmap(train):\n",
        "    correlations = train.corr()\n",
        "\n",
        "    fig, ax = plt.subplots(figsize=(10,10))\n",
        "    sns.heatmap(correlations, vmax=1.0, center=0, fmt='.2f', cmap=\"YlGnBu\",\n",
        "                square=True, linewidths=.5, annot=True, cbar_kws={\"shrink\": .70}\n",
        "                )\n",
        "    plt.title('Heatmap Most Important Features SVM Model', fontsize=15)\n",
        "    plt.show();\n",
        "    \n",
        "correlation_heatmap(df_most_important_svm)"
      ]
    },
    {
      "cell_type": "markdown",
      "metadata": {
        "id": "SCyLAfB36DU4"
      },
      "source": [
        "## 5. Test the model(s) on the test data set"
      ]
    },
    {
      "cell_type": "markdown",
      "metadata": {
        "id": "Kg4wqJat6KGo"
      },
      "source": [
        "### 5.1 Gradient Boosted Forest Testing"
      ]
    },
    {
      "cell_type": "code",
      "execution_count": null,
      "metadata": {
        "id": "xHNXxD2m6RIG"
      },
      "outputs": [],
      "source": [
        "final_model_xgb = best_random_xgb_model\n",
        "\n",
        "final_predictions_xgb = final_model_xgb.predict(X_test)\n",
        "final_predicted_prob_xgb = final_model_xgb.predict_proba(X_test)[:,1]"
      ]
    },
    {
      "cell_type": "code",
      "execution_count": null,
      "metadata": {
        "id": "Gjx7Cce0WNND"
      },
      "outputs": [],
      "source": [
        "# yearly test forecasts on rolling basis (baseline paper approach)\n"
      ]
    },
    {
      "cell_type": "markdown",
      "metadata": {
        "id": "oaEXb1msiWPp"
      },
      "source": [
        "Evaluate testing scores"
      ]
    },
    {
      "cell_type": "code",
      "execution_count": null,
      "metadata": {
        "colab": {
          "base_uri": "https://localhost:8080/"
        },
        "id": "9_c09l53EXDR",
        "outputId": "edba5449-396a-4a7e-8b99-83b9fe60b078"
      },
      "outputs": [
        {
          "output_type": "stream",
          "name": "stdout",
          "text": [
            "Confusion matrix:\n",
            " [[783   9]\n",
            " [ 49   4]]\n",
            "Test Balanced Accuracy: 53.2054 %\n",
            "Test AUC: 73.7945 %\n",
            "Test Recall: 7.5472 %\n",
            "Test Precision: 30.7692 %\n",
            "Test F1: 12.1212 %\n",
            "Test F1 Weighted: 91.1407 %\n"
          ]
        }
      ],
      "source": [
        "test_balanced_accuracy_xgb = balanced_accuracy_score(y_test, final_predictions_xgb)*100\n",
        "test_auc_roc_xgb = roc_auc_score(y_test, final_predicted_prob_xgb)*100\n",
        "test_recall_xgb = recall_score(y_test, final_predictions_xgb)*100\n",
        "test_precision_xgb = precision_score(y_test, final_predictions_xgb)*100\n",
        "test_f1_xgb = f1_score(y_test, final_predictions_xgb)*100\n",
        "test_f1_weighted_xgb = f1_score(y_test, final_predictions_xgb, average='weighted')*100\n",
        "\n",
        "print('Confusion matrix:\\n', confusion_matrix(y_test, final_predictions_xgb))\n",
        "print('Test Balanced Accuracy: %.4f %%' % test_balanced_accuracy_xgb)\n",
        "print('Test AUC: %.4f %%' % test_auc_roc_xgb)\n",
        "print('Test Recall: %.4f %%' % test_recall_xgb)\n",
        "print('Test Precision: %.4f %%' % test_precision_xgb)\n",
        "print('Test F1: %.4f %%' % test_f1_xgb)\n",
        "print('Test F1 Weighted: %.4f %%' % test_f1_weighted_xgb)"
      ]
    },
    {
      "cell_type": "markdown",
      "metadata": {
        "id": "nBcP8cE5ps_J"
      },
      "source": [
        "\n",
        "#### Visualize results"
      ]
    },
    {
      "cell_type": "code",
      "execution_count": 117,
      "metadata": {
        "colab": {
          "base_uri": "https://localhost:8080/",
          "height": 315
        },
        "id": "MizOHoHmpu-E",
        "outputId": "bfcaaeff-fc5d-4b84-ada9-7b9f2404a4bf"
      },
      "outputs": [
        {
          "output_type": "stream",
          "name": "stdout",
          "text": [
            "Saving figure cm_xgb\n"
          ]
        },
        {
          "output_type": "display_data",
          "data": {
            "text/plain": [
              "<Figure size 432x288 with 2 Axes>"
            ],
            "image/png": "[encoded data removed]"
          },
          "metadata": {
            "needs_background": "light"
          }
        }
      ],
      "source": [
        "# Create ConfusionMatrixDisplay\n",
        "cm_xgb = confusion_matrix(y_test, final_predictions_xgb)\n",
        "cm_display = ConfusionMatrixDisplay(cm_xgb).plot()\n",
        "save_fig(\"cm_xgb\")"
      ]
    },
    {
      "cell_type": "code",
      "execution_count": 118,
      "metadata": {
        "colab": {
          "base_uri": "https://localhost:8080/",
          "height": 315
        },
        "id": "MKUpIirNqGyG",
        "outputId": "1e3a4707-76f3-4128-c1ea-6cf18aa34d49"
      },
      "outputs": [
        {
          "output_type": "stream",
          "name": "stdout",
          "text": [
            "Saving figure roc_curve_xgb\n"
          ]
        },
        {
          "output_type": "display_data",
          "data": {
            "text/plain": [
              "<Figure size 432x288 with 1 Axes>"
            ],
            "image/png": "[encoded data removed]"
          },
          "metadata": {
            "needs_background": "light"
          }
        }
      ],
      "source": [
        "# Create RocCurveDisplay\n",
        "fpr, tpr, _ = roc_curve(y_test, final_predicted_prob_xgb, pos_label=final_model_xgb.classes_[1])\n",
        "roc_display = RocCurveDisplay(fpr=fpr, tpr=tpr)\n",
        "roc_display.plot()\n",
        "save_fig(\"roc_curve_xgb\")"
      ]
    },
    {
      "cell_type": "code",
      "execution_count": 119,
      "metadata": {
        "colab": {
          "base_uri": "https://localhost:8080/",
          "height": 315
        },
        "id": "PlYT-tMKqyDc",
        "outputId": "e0329c24-f54a-4047-f0b0-2a30cb2203b0"
      },
      "outputs": [
        {
          "output_type": "stream",
          "name": "stdout",
          "text": [
            "Saving figure prec_rec_curve_xgb\n"
          ]
        },
        {
          "output_type": "display_data",
          "data": {
            "text/plain": [
              "<Figure size 432x288 with 1 Axes>"
            ],
            "image/png": "[encoded data removed]"
          },
          "metadata": {
            "needs_background": "light"
          }
        }
      ],
      "source": [
        "# Create PrecisionRecallDisplay\n",
        "prec, recall, _ = precision_recall_curve(y_test, final_predicted_prob_xgb, pos_label=final_model_xgb.classes_[1])\n",
        "pr_display = PrecisionRecallDisplay(precision=prec, recall=recall)\n",
        "pr_display.plot()\n",
        "save_fig(\"prec_rec_curve_xgb\")"
      ]
    },
    {
      "cell_type": "code",
      "source": [
        "#fig, axs = plt.subplots(2)\n",
        "#fig.suptitle('Vertically stacked subplots')\n",
        "#axs[0].plot(RocCurveDisplay(fpr=fpr, tpr=tpr))\n",
        "#axs[1].plot(PrecisionRecallDisplay(precision=prec, recall=recall))"
      ],
      "metadata": {
        "id": "ymCskxlUR6X9"
      },
      "execution_count": null,
      "outputs": []
    },
    {
      "cell_type": "markdown",
      "metadata": {
        "id": "PUTSBflp6RPA"
      },
      "source": [
        "### 5.2 Support-Vector Machines Testing"
      ]
    },
    {
      "cell_type": "code",
      "execution_count": 55,
      "metadata": {
        "id": "GemuXdSi6U5Y"
      },
      "outputs": [],
      "source": [
        "final_model_svm = best_random_svm_model\n",
        "\n",
        "final_predictions_svm = final_model_svm.predict(X_test)\n",
        "final_predicted_prob_svm = final_model_svm.predict_proba(X_test)[:,1]"
      ]
    },
    {
      "cell_type": "code",
      "source": [
        "test_balanced_accuracy_svm = balanced_accuracy_score(y_test, final_predictions_svm)*100\n",
        "test_auc_roc_svm = roc_auc_score(y_test, final_predicted_prob_svm)*100\n",
        "test_recall_svm = recall_score(y_test, final_predictions_svm)*100\n",
        "test_precision_svm = precision_score(y_test, final_predictions_svm)*100\n",
        "test_f1_svm = f1_score(y_test, final_predictions_svm)*100\n",
        "test_f1_weighted_svm = f1_score(y_test, final_predictions_svm, average='weighted')*100\n",
        "\n",
        "print('Confusion matrix:\\n', confusion_matrix(y_test, final_predictions_svm))\n",
        "print('Test Balanced Accuracy: %.4f %%' % test_balanced_accuracy_svm)\n",
        "print('Test AUC: %.4f %%' % test_auc_roc_svm)\n",
        "print('Test Recall: %.4f %%' % test_recall_svm)\n",
        "print('Test Precision: %.4f %%' % test_precision_svm)\n",
        "print('Test F1: %.4f %%' % test_f1_svm)\n",
        "print('Test F1 Weighted: %.4f %%' % test_f1_weighted_svm)"
      ],
      "metadata": {
        "colab": {
          "base_uri": "https://localhost:8080/"
        },
        "id": "oRgS1Zi9gQyV",
        "outputId": "d865ecb4-c5ed-4236-c7e2-c8f9f9460f79"
      },
      "execution_count": 56,
      "outputs": [
        {
          "output_type": "stream",
          "name": "stdout",
          "text": [
            "Confusion matrix:\n",
            " [[760  32]\n",
            " [ 39  14]]\n",
            "Test Balanced Accuracy: 61.1873 %\n",
            "Test AUC: 76.5842 %\n",
            "Test Recall: 26.4151 %\n",
            "Test Precision: 30.4348 %\n",
            "Test F1: 28.2828 %\n",
            "Test F1 Weighted: 91.3191 %\n"
          ]
        }
      ]
    },
    {
      "cell_type": "markdown",
      "source": [
        "\n",
        "#### Visualize results"
      ],
      "metadata": {
        "id": "WDg_vQ3zgu58"
      }
    },
    {
      "cell_type": "code",
      "execution_count": 116,
      "metadata": {
        "colab": {
          "base_uri": "https://localhost:8080/",
          "height": 315
        },
        "outputId": "a36e9ef2-c3ad-41c5-e230-2d6fffb10622",
        "id": "PGINodL-fcp6"
      },
      "outputs": [
        {
          "output_type": "stream",
          "name": "stdout",
          "text": [
            "Saving figure cm_svm\n"
          ]
        },
        {
          "output_type": "display_data",
          "data": {
            "text/plain": [
              "<Figure size 432x288 with 2 Axes>"
            ],
            "image/png": "[encoded data removed]"
          },
          "metadata": {
            "needs_background": "light"
          }
        }
      ],
      "source": [
        "# Create ConfusionMatrixDisplay\n",
        "cm_svm = confusion_matrix(y_test, final_predictions_svm)\n",
        "cm_display = ConfusionMatrixDisplay(cm_svm).plot()\n",
        "save_fig(\"cm_svm\")"
      ]
    },
    {
      "cell_type": "code",
      "execution_count": 58,
      "metadata": {
        "colab": {
          "base_uri": "https://localhost:8080/",
          "height": 315
        },
        "outputId": "c826789f-a02e-404b-9466-046a8c395b6b",
        "id": "1ZyygaYtfcp7"
      },
      "outputs": [
        {
          "output_type": "stream",
          "name": "stdout",
          "text": [
            "Saving figure roc_curve_svm\n"
          ]
        },
        {
          "output_type": "display_data",
          "data": {
            "text/plain": [
              "<Figure size 432x288 with 1 Axes>"
            ],
            "image/png": "[encoded data removed]"
          },
          "metadata": {
            "needs_background": "light"
          }
        }
      ],
      "source": [
        "# Create RocCurveDisplay\n",
        "fpr_svm, tpr_svm, _ = roc_curve(y_test, final_predicted_prob_svm, pos_label=final_model_svm.classes_[1])\n",
        "roc_display = RocCurveDisplay(fpr=fpr_svm, tpr=tpr_svm).plot()\n",
        "save_fig(\"roc_curve_svm\")"
      ]
    },
    {
      "cell_type": "code",
      "execution_count": 59,
      "metadata": {
        "colab": {
          "base_uri": "https://localhost:8080/",
          "height": 315
        },
        "outputId": "9af77427-245a-491f-ee68-ecd46a5fd719",
        "id": "XCOjVzQkfcp8"
      },
      "outputs": [
        {
          "output_type": "stream",
          "name": "stdout",
          "text": [
            "Saving figure prec_rec_curve_svm\n"
          ]
        },
        {
          "output_type": "display_data",
          "data": {
            "text/plain": [
              "<Figure size 432x288 with 1 Axes>"
            ],
            "image/png": "[encoded data removed]"
          },
          "metadata": {
            "needs_background": "light"
          }
        }
      ],
      "source": [
        "# Create PrecisionRecallDisplay\n",
        "prec_svm, recall_svm, _ = precision_recall_curve(y_test, final_predicted_prob_svm, pos_label=final_model_svm.classes_[1])\n",
        "pr_display = PrecisionRecallDisplay(precision=prec_svm, recall=recall_svm).plot()\n",
        "save_fig(\"prec_rec_curve_svm\")"
      ]
    },
    {
      "cell_type": "markdown",
      "metadata": {
        "id": "CEbN3B_2x6GW"
      },
      "source": [
        "## Forecasting Adverse Regime Transitions"
      ]
    },
    {
      "cell_type": "markdown",
      "source": [
        "### XGBoost"
      ],
      "metadata": {
        "id": "HiCNhyF6Syb2"
      }
    },
    {
      "cell_type": "code",
      "execution_count": null,
      "metadata": {
        "id": "CxYjnMZ7x-U9"
      },
      "outputs": [],
      "source": [
        "# Create a forecasting data set (for example for 2021)\n",
        "forecast_data_xgb = vdem_2022_repl[(vdem_2022_repl['year']>2020) & (vdem_2022_repl['year']<2022)]\n",
        "X_forecast = forecast_data_xgb.drop(columns = columns_drop, axis=1) # Removes several identifier variables not needed for modeling\n",
        "y_forecast = forecast_data_xgb.any_neg_change_2yr.values"
      ]
    },
    {
      "cell_type": "code",
      "execution_count": null,
      "metadata": {
        "id": "sI3qwJjWyCBY"
      },
      "outputs": [],
      "source": [
        "# Make predictions for 2021\n",
        "forecasts_pred_xgb = final_model_xgb.predict(X_forecast)\n",
        "forecasts_pred_prob_xgb = final_model_xgb.predict_proba(X_forecast)[:,1]"
      ]
    },
    {
      "cell_type": "code",
      "execution_count": null,
      "metadata": {
        "id": "UpzkUfDvyEle",
        "colab": {
          "base_uri": "https://localhost:8080/"
        },
        "outputId": "cb67b8f7-91af-4060-d185-bc8f2d19e7de"
      },
      "outputs": [
        {
          "output_type": "stream",
          "name": "stderr",
          "text": [
            "/usr/local/lib/python3.7/dist-packages/ipykernel_launcher.py:2: SettingWithCopyWarning: \n",
            "A value is trying to be set on a copy of a slice from a DataFrame.\n",
            "Try using .loc[row_indexer,col_indexer] = value instead\n",
            "\n",
            "See the caveats in the documentation: https://pandas.pydata.org/pandas-docs/stable/user_guide/indexing.html#returning-a-view-versus-a-copy\n",
            "  \n"
          ]
        }
      ],
      "source": [
        "# Add risk estimates (predicted probabilities) to the original forecasting dataset\n",
        "forecast_data_xgb['pred_prob'] = forecasts_pred_prob_xgb"
      ]
    },
    {
      "cell_type": "code",
      "execution_count": null,
      "metadata": {
        "id": "9sAtB7aUypb_"
      },
      "outputs": [],
      "source": [
        "highriskcountries_xgb = forecast_data_xgb[[\"year\", \"country_name\", \"pred_prob\"]]\n",
        "highriskcountries_xgb.set_index('country_name', inplace=True)"
      ]
    },
    {
      "cell_type": "code",
      "execution_count": null,
      "metadata": {
        "colab": {
          "base_uri": "https://localhost:8080/",
          "height": 708
        },
        "id": "q_LVypDqyul3",
        "outputId": "b83c31df-7895-4cc1-96d4-8ac9c6db3c44"
      },
      "outputs": [
        {
          "output_type": "execute_result",
          "data": {
            "text/plain": [
              "                          year  pred_prob\n",
              "country_name                             \n",
              "Nepal                     2021   0.684603\n",
              "Mali                      2021   0.680251\n",
              "Ukraine                   2021   0.601428\n",
              "El Salvador               2021   0.522780\n",
              "Ghana                     2021   0.415946\n",
              "Latvia                    2021   0.360076\n",
              "Moldova                   2021   0.357541\n",
              "Brazil                    2021   0.355381\n",
              "Estonia                   2021   0.207547\n",
              "Tanzania                  2021   0.187468\n",
              "Lesotho                   2021   0.149252\n",
              "Central African Republic  2021   0.148257\n",
              "Nigeria                   2021   0.124983\n",
              "Sri Lanka                 2021   0.100681\n",
              "Cambodia                  2021   0.088696\n",
              "Guatemala                 2021   0.058550\n",
              "Chad                      2021   0.056452\n",
              "Kyrgyzstan                2021   0.049781\n",
              "Romania                   2021   0.048114\n",
              "Croatia                   2021   0.045651"
            ],
            "text/html": [
              "\n",
              "  <div id=\"df-5aaeb8c0-8657-4a75-b2c3-5950d2c7cc00\">\n",
              "    <div class=\"colab-df-container\">\n",
              "      <div>\n",
              "<style scoped>\n",
              "    .dataframe tbody tr th:only-of-type {\n",
              "        vertical-align: middle;\n",
              "    }\n",
              "\n",
              "    .dataframe tbody tr th {\n",
              "        vertical-align: top;\n",
              "    }\n",
              "\n",
              "    .dataframe thead th {\n",
              "        text-align: right;\n",
              "    }\n",
              "</style>\n",
              "<table border=\"1\" class=\"dataframe\">\n",
              "  <thead>\n",
              "    <tr style=\"text-align: right;\">\n",
              "      <th></th>\n",
              "      <th>year</th>\n",
              "      <th>pred_prob</th>\n",
              "    </tr>\n",
              "    <tr>\n",
              "      <th>country_name</th>\n",
              "      <th></th>\n",
              "      <th></th>\n",
              "    </tr>\n",
              "  </thead>\n",
              "  <tbody>\n",
              "    <tr>\n",
              "      <th>Nepal</th>\n",
              "      <td>2021</td>\n",
              "      <td>0.684603</td>\n",
              "    </tr>\n",
              "    <tr>\n",
              "      <th>Mali</th>\n",
              "      <td>2021</td>\n",
              "      <td>0.680251</td>\n",
              "    </tr>\n",
              "    <tr>\n",
              "      <th>Ukraine</th>\n",
              "      <td>2021</td>\n",
              "      <td>0.601428</td>\n",
              "    </tr>\n",
              "    <tr>\n",
              "      <th>El Salvador</th>\n",
              "      <td>2021</td>\n",
              "      <td>0.522780</td>\n",
              "    </tr>\n",
              "    <tr>\n",
              "      <th>Ghana</th>\n",
              "      <td>2021</td>\n",
              "      <td>0.415946</td>\n",
              "    </tr>\n",
              "    <tr>\n",
              "      <th>Latvia</th>\n",
              "      <td>2021</td>\n",
              "      <td>0.360076</td>\n",
              "    </tr>\n",
              "    <tr>\n",
              "      <th>Moldova</th>\n",
              "      <td>2021</td>\n",
              "      <td>0.357541</td>\n",
              "    </tr>\n",
              "    <tr>\n",
              "      <th>Brazil</th>\n",
              "      <td>2021</td>\n",
              "      <td>0.355381</td>\n",
              "    </tr>\n",
              "    <tr>\n",
              "      <th>Estonia</th>\n",
              "      <td>2021</td>\n",
              "      <td>0.207547</td>\n",
              "    </tr>\n",
              "    <tr>\n",
              "      <th>Tanzania</th>\n",
              "      <td>2021</td>\n",
              "      <td>0.187468</td>\n",
              "    </tr>\n",
              "    <tr>\n",
              "      <th>Lesotho</th>\n",
              "      <td>2021</td>\n",
              "      <td>0.149252</td>\n",
              "    </tr>\n",
              "    <tr>\n",
              "      <th>Central African Republic</th>\n",
              "      <td>2021</td>\n",
              "      <td>0.148257</td>\n",
              "    </tr>\n",
              "    <tr>\n",
              "      <th>Nigeria</th>\n",
              "      <td>2021</td>\n",
              "      <td>0.124983</td>\n",
              "    </tr>\n",
              "    <tr>\n",
              "      <th>Sri Lanka</th>\n",
              "      <td>2021</td>\n",
              "      <td>0.100681</td>\n",
              "    </tr>\n",
              "    <tr>\n",
              "      <th>Cambodia</th>\n",
              "      <td>2021</td>\n",
              "      <td>0.088696</td>\n",
              "    </tr>\n",
              "    <tr>\n",
              "      <th>Guatemala</th>\n",
              "      <td>2021</td>\n",
              "      <td>0.058550</td>\n",
              "    </tr>\n",
              "    <tr>\n",
              "      <th>Chad</th>\n",
              "      <td>2021</td>\n",
              "      <td>0.056452</td>\n",
              "    </tr>\n",
              "    <tr>\n",
              "      <th>Kyrgyzstan</th>\n",
              "      <td>2021</td>\n",
              "      <td>0.049781</td>\n",
              "    </tr>\n",
              "    <tr>\n",
              "      <th>Romania</th>\n",
              "      <td>2021</td>\n",
              "      <td>0.048114</td>\n",
              "    </tr>\n",
              "    <tr>\n",
              "      <th>Croatia</th>\n",
              "      <td>2021</td>\n",
              "      <td>0.045651</td>\n",
              "    </tr>\n",
              "  </tbody>\n",
              "</table>\n",
              "</div>\n",
              "      <button class=\"colab-df-convert\" onclick=\"convertToInteractive('df-5aaeb8c0-8657-4a75-b2c3-5950d2c7cc00')\"\n",
              "              title=\"Convert this dataframe to an interactive table.\"\n",
              "              style=\"display:none;\">\n",
              "        \n",
              "  <svg xmlns=\"http://www.w3.org/2000/svg\" height=\"24px\"viewBox=\"0 0 24 24\"\n",
              "       width=\"24px\">\n",
              "    <path d=\"M0 0h24v24H0V0z\" fill=\"none\"/>\n",
              "    <path d=\"M18.56 5.44l.94 2.06.94-2.06 2.06-.94-2.06-.94-.94-2.06-.94 2.06-2.06.94zm-11 1L8.5 8.5l.94-2.06 2.06-.94-2.06-.94L8.5 2.5l-.94 2.06-2.06.94zm10 10l.94 2.06.94-2.06 2.06-.94-2.06-.94-.94-2.06-.94 2.06-2.06.94z\"/><path d=\"M17.41 7.96l-1.37-1.37c-.4-.4-.92-.59-1.43-.59-.52 0-1.04.2-1.43.59L10.3 9.45l-7.72 7.72c-.78.78-.78 2.05 0 2.83L4 21.41c.39.39.9.59 1.41.59.51 0 1.02-.2 1.41-.59l7.78-7.78 2.81-2.81c.8-.78.8-2.07 0-2.86zM5.41 20L4 18.59l7.72-7.72 1.47 1.35L5.41 20z\"/>\n",
              "  </svg>\n",
              "      </button>\n",
              "      \n",
              "  <style>\n",
              "    .colab-df-container {\n",
              "      display:flex;\n",
              "      flex-wrap:wrap;\n",
              "      gap: 12px;\n",
              "    }\n",
              "\n",
              "    .colab-df-convert {\n",
              "      background-color: #E8F0FE;\n",
              "      border: none;\n",
              "      border-radius: 50%;\n",
              "      cursor: pointer;\n",
              "      display: none;\n",
              "      fill: #1967D2;\n",
              "      height: 32px;\n",
              "      padding: 0 0 0 0;\n",
              "      width: 32px;\n",
              "    }\n",
              "\n",
              "    .colab-df-convert:hover {\n",
              "      background-color: #E2EBFA;\n",
              "      box-shadow: 0px 1px 2px rgba(60, 64, 67, 0.3), 0px 1px 3px 1px rgba(60, 64, 67, 0.15);\n",
              "      fill: #174EA6;\n",
              "    }\n",
              "\n",
              "    [theme=dark] .colab-df-convert {\n",
              "      background-color: #3B4455;\n",
              "      fill: #D2E3FC;\n",
              "    }\n",
              "\n",
              "    [theme=dark] .colab-df-convert:hover {\n",
              "      background-color: #434B5C;\n",
              "      box-shadow: 0px 1px 3px 1px rgba(0, 0, 0, 0.15);\n",
              "      filter: drop-shadow(0px 1px 2px rgba(0, 0, 0, 0.3));\n",
              "      fill: #FFFFFF;\n",
              "    }\n",
              "  </style>\n",
              "\n",
              "      <script>\n",
              "        const buttonEl =\n",
              "          document.querySelector('#df-5aaeb8c0-8657-4a75-b2c3-5950d2c7cc00 button.colab-df-convert');\n",
              "        buttonEl.style.display =\n",
              "          google.colab.kernel.accessAllowed ? 'block' : 'none';\n",
              "\n",
              "        async function convertToInteractive(key) {\n",
              "          const element = document.querySelector('#df-5aaeb8c0-8657-4a75-b2c3-5950d2c7cc00');\n",
              "          const dataTable =\n",
              "            await google.colab.kernel.invokeFunction('convertToInteractive',\n",
              "                                                     [key], {});\n",
              "          if (!dataTable) return;\n",
              "\n",
              "          const docLinkHtml = 'Like what you see? Visit the ' +\n",
              "            '<a target=\"_blank\" href=https://colab.research.google.com/notebooks/data_table.ipynb>data table notebook</a>'\n",
              "            + ' to learn more about interactive tables.';\n",
              "          element.innerHTML = '';\n",
              "          dataTable['output_type'] = 'display_data';\n",
              "          await google.colab.output.renderOutput(dataTable, element);\n",
              "          const docLink = document.createElement('div');\n",
              "          docLink.innerHTML = docLinkHtml;\n",
              "          element.appendChild(docLink);\n",
              "        }\n",
              "      </script>\n",
              "    </div>\n",
              "  </div>\n",
              "  "
            ]
          },
          "metadata": {},
          "execution_count": 41
        }
      ],
      "source": [
        "# Show list of 20 most high-risk countries (with highest predicted probabilities of an ART)\n",
        "highriskcountries_xgb.nlargest(20, columns = ['pred_prob']).sort_values(by = ['pred_prob'], ascending=False)"
      ]
    },
    {
      "cell_type": "code",
      "execution_count": 113,
      "metadata": {
        "colab": {
          "base_uri": "https://localhost:8080/",
          "height": 603
        },
        "id": "nd8NqW8qyl_O",
        "outputId": "3eddba9a-c56a-4a1c-b532-7856ed996c8e"
      },
      "outputs": [
        {
          "output_type": "stream",
          "name": "stdout",
          "text": [
            "Saving figure risk_forecast_2021_xgb\n"
          ]
        },
        {
          "output_type": "display_data",
          "data": {
            "text/plain": [
              "<Figure size 432x576 with 1 Axes>"
            ],
            "image/png": "[encoded data removed]"
          },
          "metadata": {
            "needs_background": "light"
          }
        }
      ],
      "source": [
        "highriskcountries_xgb[[\"pred_prob\"]].nlargest(20, columns = ['pred_prob']).sort_values(by = ['pred_prob'], ascending=True).plot(kind='barh', figsize=(6,8), xlabel = '')\n",
        "save_fig(\"risk_forecast_2021_xgb\")"
      ]
    },
    {
      "cell_type": "markdown",
      "source": [
        "### SVM"
      ],
      "metadata": {
        "id": "RVsxdRV8TcyU"
      }
    },
    {
      "cell_type": "code",
      "execution_count": 53,
      "metadata": {
        "id": "NlfXnfbLTcyV"
      },
      "outputs": [],
      "source": [
        "# Create a forecasting data set (for example for 2021)\n",
        "forecast_data_svm = vdem_2022_repl[(vdem_2022_repl['year']>2020) & (vdem_2022_repl['year']<2022)]\n",
        "X_forecast = forecast_data_svm.drop(columns = columns_drop, axis=1) # Removes several identifier variables not needed for modeling\n",
        "y_forecast = forecast_data_svm.any_neg_change_2yr.values"
      ]
    },
    {
      "cell_type": "code",
      "execution_count": 60,
      "metadata": {
        "id": "LpHZnRQaTcyV"
      },
      "outputs": [],
      "source": [
        "# Make predictions for 2021\n",
        "forecasts_pred_svm = final_model_svm.predict(X_forecast)\n",
        "forecasts_pred_prob_svm = final_model_svm.predict_proba(X_forecast)[:,1]"
      ]
    },
    {
      "cell_type": "code",
      "execution_count": 61,
      "metadata": {
        "colab": {
          "base_uri": "https://localhost:8080/"
        },
        "outputId": "7b853ed0-4b23-452d-a8d9-99efd1539428",
        "id": "SIEdyB2ETcyV"
      },
      "outputs": [
        {
          "output_type": "stream",
          "name": "stderr",
          "text": [
            "/usr/local/lib/python3.7/dist-packages/ipykernel_launcher.py:2: SettingWithCopyWarning: \n",
            "A value is trying to be set on a copy of a slice from a DataFrame.\n",
            "Try using .loc[row_indexer,col_indexer] = value instead\n",
            "\n",
            "See the caveats in the documentation: https://pandas.pydata.org/pandas-docs/stable/user_guide/indexing.html#returning-a-view-versus-a-copy\n",
            "  \n"
          ]
        }
      ],
      "source": [
        "# Add risk estimates (predicted probabilities) to the original forecasting dataset\n",
        "forecast_data_svm['pred_prob'] = forecasts_pred_prob_svm"
      ]
    },
    {
      "cell_type": "code",
      "execution_count": 62,
      "metadata": {
        "id": "y5_utzpPTcyW"
      },
      "outputs": [],
      "source": [
        "highriskcountries_svm = forecast_data_svm[[\"year\", \"country_name\", \"pred_prob\"]]\n",
        "highriskcountries_svm.set_index('country_name', inplace=True)"
      ]
    },
    {
      "cell_type": "code",
      "execution_count": 63,
      "metadata": {
        "colab": {
          "base_uri": "https://localhost:8080/",
          "height": 708
        },
        "outputId": "8abe52a9-3b3f-4e30-879d-092f9e795213",
        "id": "3E7E7xP6TcyW"
      },
      "outputs": [
        {
          "output_type": "execute_result",
          "data": {
            "text/plain": [
              "                        year  pred_prob\n",
              "country_name                           \n",
              "Paraguay                2021   0.741685\n",
              "Ukraine                 2021   0.729486\n",
              "Niger                   2021   0.537146\n",
              "Libya                   2021   0.535834\n",
              "El Salvador             2021   0.456824\n",
              "Eritrea                 2021   0.409342\n",
              "Portugal                2021   0.391128\n",
              "Mali                    2021   0.330567\n",
              "Nicaragua               2021   0.286326\n",
              "Madagascar              2021   0.285595\n",
              "Timor-Leste             2021   0.250994\n",
              "Moldova                 2021   0.224392\n",
              "Botswana                2021   0.223382\n",
              "Haiti                   2021   0.187002\n",
              "Israel                  2021   0.178696\n",
              "Bosnia and Herzegovina  2021   0.165678\n",
              "Cyprus                  2021   0.149549\n",
              "Djibouti                2021   0.144504\n",
              "Somalia                 2021   0.139456\n",
              "Nepal                   2021   0.136313"
            ],
            "text/html": [
              "\n",
              "  <div id=\"df-1c1f98ef-16e7-454e-aca2-cd4b1a3866f5\">\n",
              "    <div class=\"colab-df-container\">\n",
              "      <div>\n",
              "<style scoped>\n",
              "    .dataframe tbody tr th:only-of-type {\n",
              "        vertical-align: middle;\n",
              "    }\n",
              "\n",
              "    .dataframe tbody tr th {\n",
              "        vertical-align: top;\n",
              "    }\n",
              "\n",
              "    .dataframe thead th {\n",
              "        text-align: right;\n",
              "    }\n",
              "</style>\n",
              "<table border=\"1\" class=\"dataframe\">\n",
              "  <thead>\n",
              "    <tr style=\"text-align: right;\">\n",
              "      <th></th>\n",
              "      <th>year</th>\n",
              "      <th>pred_prob</th>\n",
              "    </tr>\n",
              "    <tr>\n",
              "      <th>country_name</th>\n",
              "      <th></th>\n",
              "      <th></th>\n",
              "    </tr>\n",
              "  </thead>\n",
              "  <tbody>\n",
              "    <tr>\n",
              "      <th>Paraguay</th>\n",
              "      <td>2021</td>\n",
              "      <td>0.741685</td>\n",
              "    </tr>\n",
              "    <tr>\n",
              "      <th>Ukraine</th>\n",
              "      <td>2021</td>\n",
              "      <td>0.729486</td>\n",
              "    </tr>\n",
              "    <tr>\n",
              "      <th>Niger</th>\n",
              "      <td>2021</td>\n",
              "      <td>0.537146</td>\n",
              "    </tr>\n",
              "    <tr>\n",
              "      <th>Libya</th>\n",
              "      <td>2021</td>\n",
              "      <td>0.535834</td>\n",
              "    </tr>\n",
              "    <tr>\n",
              "      <th>El Salvador</th>\n",
              "      <td>2021</td>\n",
              "      <td>0.456824</td>\n",
              "    </tr>\n",
              "    <tr>\n",
              "      <th>Eritrea</th>\n",
              "      <td>2021</td>\n",
              "      <td>0.409342</td>\n",
              "    </tr>\n",
              "    <tr>\n",
              "      <th>Portugal</th>\n",
              "      <td>2021</td>\n",
              "      <td>0.391128</td>\n",
              "    </tr>\n",
              "    <tr>\n",
              "      <th>Mali</th>\n",
              "      <td>2021</td>\n",
              "      <td>0.330567</td>\n",
              "    </tr>\n",
              "    <tr>\n",
              "      <th>Nicaragua</th>\n",
              "      <td>2021</td>\n",
              "      <td>0.286326</td>\n",
              "    </tr>\n",
              "    <tr>\n",
              "      <th>Madagascar</th>\n",
              "      <td>2021</td>\n",
              "      <td>0.285595</td>\n",
              "    </tr>\n",
              "    <tr>\n",
              "      <th>Timor-Leste</th>\n",
              "      <td>2021</td>\n",
              "      <td>0.250994</td>\n",
              "    </tr>\n",
              "    <tr>\n",
              "      <th>Moldova</th>\n",
              "      <td>2021</td>\n",
              "      <td>0.224392</td>\n",
              "    </tr>\n",
              "    <tr>\n",
              "      <th>Botswana</th>\n",
              "      <td>2021</td>\n",
              "      <td>0.223382</td>\n",
              "    </tr>\n",
              "    <tr>\n",
              "      <th>Haiti</th>\n",
              "      <td>2021</td>\n",
              "      <td>0.187002</td>\n",
              "    </tr>\n",
              "    <tr>\n",
              "      <th>Israel</th>\n",
              "      <td>2021</td>\n",
              "      <td>0.178696</td>\n",
              "    </tr>\n",
              "    <tr>\n",
              "      <th>Bosnia and Herzegovina</th>\n",
              "      <td>2021</td>\n",
              "      <td>0.165678</td>\n",
              "    </tr>\n",
              "    <tr>\n",
              "      <th>Cyprus</th>\n",
              "      <td>2021</td>\n",
              "      <td>0.149549</td>\n",
              "    </tr>\n",
              "    <tr>\n",
              "      <th>Djibouti</th>\n",
              "      <td>2021</td>\n",
              "      <td>0.144504</td>\n",
              "    </tr>\n",
              "    <tr>\n",
              "      <th>Somalia</th>\n",
              "      <td>2021</td>\n",
              "      <td>0.139456</td>\n",
              "    </tr>\n",
              "    <tr>\n",
              "      <th>Nepal</th>\n",
              "      <td>2021</td>\n",
              "      <td>0.136313</td>\n",
              "    </tr>\n",
              "  </tbody>\n",
              "</table>\n",
              "</div>\n",
              "      <button class=\"colab-df-convert\" onclick=\"convertToInteractive('df-1c1f98ef-16e7-454e-aca2-cd4b1a3866f5')\"\n",
              "              title=\"Convert this dataframe to an interactive table.\"\n",
              "              style=\"display:none;\">\n",
              "        \n",
              "  <svg xmlns=\"http://www.w3.org/2000/svg\" height=\"24px\"viewBox=\"0 0 24 24\"\n",
              "       width=\"24px\">\n",
              "    <path d=\"M0 0h24v24H0V0z\" fill=\"none\"/>\n",
              "    <path d=\"M18.56 5.44l.94 2.06.94-2.06 2.06-.94-2.06-.94-.94-2.06-.94 2.06-2.06.94zm-11 1L8.5 8.5l.94-2.06 2.06-.94-2.06-.94L8.5 2.5l-.94 2.06-2.06.94zm10 10l.94 2.06.94-2.06 2.06-.94-2.06-.94-.94-2.06-.94 2.06-2.06.94z\"/><path d=\"M17.41 7.96l-1.37-1.37c-.4-.4-.92-.59-1.43-.59-.52 0-1.04.2-1.43.59L10.3 9.45l-7.72 7.72c-.78.78-.78 2.05 0 2.83L4 21.41c.39.39.9.59 1.41.59.51 0 1.02-.2 1.41-.59l7.78-7.78 2.81-2.81c.8-.78.8-2.07 0-2.86zM5.41 20L4 18.59l7.72-7.72 1.47 1.35L5.41 20z\"/>\n",
              "  </svg>\n",
              "      </button>\n",
              "      \n",
              "  <style>\n",
              "    .colab-df-container {\n",
              "      display:flex;\n",
              "      flex-wrap:wrap;\n",
              "      gap: 12px;\n",
              "    }\n",
              "\n",
              "    .colab-df-convert {\n",
              "      background-color: #E8F0FE;\n",
              "      border: none;\n",
              "      border-radius: 50%;\n",
              "      cursor: pointer;\n",
              "      display: none;\n",
              "      fill: #1967D2;\n",
              "      height: 32px;\n",
              "      padding: 0 0 0 0;\n",
              "      width: 32px;\n",
              "    }\n",
              "\n",
              "    .colab-df-convert:hover {\n",
              "      background-color: #E2EBFA;\n",
              "      box-shadow: 0px 1px 2px rgba(60, 64, 67, 0.3), 0px 1px 3px 1px rgba(60, 64, 67, 0.15);\n",
              "      fill: #174EA6;\n",
              "    }\n",
              "\n",
              "    [theme=dark] .colab-df-convert {\n",
              "      background-color: #3B4455;\n",
              "      fill: #D2E3FC;\n",
              "    }\n",
              "\n",
              "    [theme=dark] .colab-df-convert:hover {\n",
              "      background-color: #434B5C;\n",
              "      box-shadow: 0px 1px 3px 1px rgba(0, 0, 0, 0.15);\n",
              "      filter: drop-shadow(0px 1px 2px rgba(0, 0, 0, 0.3));\n",
              "      fill: #FFFFFF;\n",
              "    }\n",
              "  </style>\n",
              "\n",
              "      <script>\n",
              "        const buttonEl =\n",
              "          document.querySelector('#df-1c1f98ef-16e7-454e-aca2-cd4b1a3866f5 button.colab-df-convert');\n",
              "        buttonEl.style.display =\n",
              "          google.colab.kernel.accessAllowed ? 'block' : 'none';\n",
              "\n",
              "        async function convertToInteractive(key) {\n",
              "          const element = document.querySelector('#df-1c1f98ef-16e7-454e-aca2-cd4b1a3866f5');\n",
              "          const dataTable =\n",
              "            await google.colab.kernel.invokeFunction('convertToInteractive',\n",
              "                                                     [key], {});\n",
              "          if (!dataTable) return;\n",
              "\n",
              "          const docLinkHtml = 'Like what you see? Visit the ' +\n",
              "            '<a target=\"_blank\" href=https://colab.research.google.com/notebooks/data_table.ipynb>data table notebook</a>'\n",
              "            + ' to learn more about interactive tables.';\n",
              "          element.innerHTML = '';\n",
              "          dataTable['output_type'] = 'display_data';\n",
              "          await google.colab.output.renderOutput(dataTable, element);\n",
              "          const docLink = document.createElement('div');\n",
              "          docLink.innerHTML = docLinkHtml;\n",
              "          element.appendChild(docLink);\n",
              "        }\n",
              "      </script>\n",
              "    </div>\n",
              "  </div>\n",
              "  "
            ]
          },
          "metadata": {},
          "execution_count": 63
        }
      ],
      "source": [
        "# Show list of 20 most high-risk countries (with highest predicted probabilities of an ART)\n",
        "highriskcountries_svm.nlargest(20, columns = ['pred_prob']).sort_values(by = ['pred_prob'], ascending=False)"
      ]
    },
    {
      "cell_type": "code",
      "source": [
        "highriskcountries_svm[[\"pred_prob\"]].nlargest(20, columns = ['pred_prob']).sort_values(by = ['pred_prob'], ascending=True).plot(kind='barh', figsize=(6,8), xlabel = '')\n",
        "save_fig(\"risk_forecast_2021_svm\")\n",
        "plt.show()"
      ],
      "metadata": {
        "colab": {
          "base_uri": "https://localhost:8080/",
          "height": 603
        },
        "id": "M5D4wYBQULI6",
        "outputId": "97736661-b5f8-4596-9056-b46eb2b3999f"
      },
      "execution_count": 115,
      "outputs": [
        {
          "output_type": "stream",
          "name": "stdout",
          "text": [
            "Saving figure risk_forecast_2021_svm\n"
          ]
        },
        {
          "output_type": "display_data",
          "data": {
            "text/plain": [
              "<Figure size 432x576 with 1 Axes>"
            ],
            "image/png": "[encoded data removed]"
          },
          "metadata": {
            "needs_background": "light"
          }
        }
      ]
    },
    {
      "cell_type": "code",
      "source": [
        "# Compare unique (country) values of 2021 risk forecasts between xgb and svm\n",
        "\n",
        "pred_2021_xgb = highriskcountries_xgb.nlargest(20, columns = ['pred_prob']).sort_values(by = ['pred_prob'], ascending=False)\n",
        "countries_2021_xgb = pred_2021_xgb.index.tolist()\n",
        "\n",
        "pred_2021_svm = highriskcountries_svm.nlargest(20, columns = ['pred_prob']).sort_values(by = ['pred_prob'], ascending=False)\n",
        "countries_2021_svm = pred_2021_svm.index.tolist()\n",
        "\n",
        "set_difference = set(countries_2021_xgb) - set(countries_2021_svm)\n",
        "print(list(set_difference))\n",
        "print(len(list(set_difference)))\n",
        "\n",
        "set_same = (set(countries_2021_xgb) & set(countries_2021_svm))\n",
        "print(set_same)\n",
        "print(len(list(set_same)))"
      ],
      "metadata": {
        "colab": {
          "base_uri": "https://localhost:8080/"
        },
        "id": "8MmjetMmX_By",
        "outputId": "4c1e97a7-db90-44cd-bfe5-12bc2f0dfb51"
      },
      "execution_count": 135,
      "outputs": [
        {
          "output_type": "stream",
          "name": "stdout",
          "text": [
            "['Kyrgyzstan', 'Central African Republic', 'Romania', 'Ghana', 'Tanzania', 'Sri Lanka', 'Lesotho', 'Cambodia', 'Guatemala', 'Nigeria', 'Latvia', 'Estonia', 'Chad', 'Brazil', 'Croatia']\n",
            "15\n",
            "{'Nepal', 'Mali', 'El Salvador', 'Ukraine', 'Moldova'}\n",
            "5\n"
          ]
        }
      ]
    }
  ],
  "metadata": {
    "colab": {
      "collapsed_sections": [
        "RGrVOMDKFP9-",
        "Rkkvws2c5SNb",
        "PUTSBflp6RPA"
      ],
      "name": "3_final_model.ipynb",
      "provenance": [],
      "include_colab_link": true
    },
    "kernelspec": {
      "display_name": "Python 3",
      "name": "python3"
    },
    "language_info": {
      "name": "python"
    }
  },
  "nbformat": 4,
  "nbformat_minor": 0
}